{
 "cells": [
  {
   "cell_type": "code",
   "execution_count": 1,
   "id": "c1d6cecf",
   "metadata": {},
   "outputs": [],
   "source": [
    "import pandas as pd\n",
    "from imblearn.over_sampling import RandomOverSampler"
   ]
  },
  {
   "cell_type": "code",
   "execution_count": 2,
   "id": "5ac6c149-9961-47c6-8a12-8adb13605bc3",
   "metadata": {},
   "outputs": [],
   "source": [
    "# pip install imblearn openpyxl graphviz"
   ]
  },
  {
   "cell_type": "code",
   "execution_count": 3,
   "id": "dceb40c8",
   "metadata": {},
   "outputs": [],
   "source": [
    "df = pd.read_excel('base_dados/base-100-limpa.xlsx')"
   ]
  },
  {
   "cell_type": "code",
   "execution_count": 4,
   "id": "185e8db7",
   "metadata": {},
   "outputs": [],
   "source": [
    "df.drop([\"Unnamed: 0\"], axis=1, inplace=True)"
   ]
  },
  {
   "cell_type": "code",
   "execution_count": 5,
   "id": "3b132c8b",
   "metadata": {},
   "outputs": [
    {
     "data": {
      "text/plain": [
       "array(['Doença de Lesões mínimas', 'Rim normal',\n",
       "       'Glomeruloesclerose segmentar e focal',\n",
       "       'Glomerulopatia membranosa primária',\n",
       "       'Glomerulopatia membranosa secundária', 'Doença da membrana fina',\n",
       "       'Nefropatia por IgA',\n",
       "       'Glomerulonefrite membranoproliferativa tipo I',\n",
       "       'Glomerulonefrite membranoproliferativa tipo II(Doença de depósito denso)',\n",
       "       'Glomerulonefrite membranoproliferativa tipo III',\n",
       "       'Glomerulonefrite difusa aguda (GNDA)', 'Nefropatia diabética',\n",
       "       'Nefroesclerose vascular hipertensiva',\n",
       "       'GLOMERULONEFRITE LÚPICA FOCAL E GLOBAL - CLASSE III',\n",
       "       'GLOMERULONEFRITE LÚPICA DIFUSA E SEGMENTAR ´CLASSE IV',\n",
       "       'GLOMERULONEFRITE LÚPICA FOCAL E SEGMENTAR - CLASSE III',\n",
       "       'Podocitopatias (Lesões Mínimas X Glomeruloesclerose Segmentar e Focal não amostrada)',\n",
       "       'GLOMERULONEFRITE LÚPICA MEMBRANOSA- CLASSE V', 'Doença de Fabry',\n",
       "       'Podocitopatia: Glomeruloesclerose segmentar e Focal não amostrada',\n",
       "       'GLOMERULONEFRITE LÚPICA DIFUSA E GLOBAL - CLASSE IV',\n",
       "       'GLOMERULONEFRITE LÚPICA MESANGIAL PROLIFERATIVA – CLASSE II',\n",
       "       'GLOMERULONEFRITE LÚPICA SEGMENTAR E FOCAL – CLASSE III (A) E ASSOCIAÇÃO COM MEMBRANOSA (CLASSE V)',\n",
       "       'Nefropatia por IgA (doença de Berger)',\n",
       "       'Glomerulonefrite crescêntica',\n",
       "       'Glomerulonefrite membranoproliferativa',\n",
       "       'GLOMERULONEFRITE LÚPICA SEGMENTAR E FOCAL - CLASSE III',\n",
       "       'Glomerulopatia membranosa',\n",
       "       'Glomeruloesclerose segmentar e focal variante colapsante',\n",
       "       'Amiloidose', 'Glomerulopatia por fibronectina',\n",
       "       'Microangiopatia trombótica'], dtype=object)"
      ]
     },
     "execution_count": 5,
     "metadata": {},
     "output_type": "execute_result"
    }
   ],
   "source": [
    "# df.columns\n",
    "df['Diagnóstico'].unique()"
   ]
  },
  {
   "cell_type": "code",
   "execution_count": 6,
   "id": "f5beef23",
   "metadata": {},
   "outputs": [],
   "source": [
    "colunas_selecionadas = df[['Matriz mesangial', 'Celularidade mesangial', 'Necrose Fibrinóide' ,'Microscopia eletrônica', 'Diagnóstico']]"
   ]
  },
  {
   "cell_type": "code",
   "execution_count": 7,
   "id": "29b1f4b8",
   "metadata": {},
   "outputs": [
    {
     "data": {
      "text/html": [
       "<div>\n",
       "<style scoped>\n",
       "    .dataframe tbody tr th:only-of-type {\n",
       "        vertical-align: middle;\n",
       "    }\n",
       "\n",
       "    .dataframe tbody tr th {\n",
       "        vertical-align: top;\n",
       "    }\n",
       "\n",
       "    .dataframe thead th {\n",
       "        text-align: right;\n",
       "    }\n",
       "</style>\n",
       "<table border=\"1\" class=\"dataframe\">\n",
       "  <thead>\n",
       "    <tr style=\"text-align: right;\">\n",
       "      <th></th>\n",
       "      <th>Matriz mesangial</th>\n",
       "      <th>Celularidade mesangial</th>\n",
       "      <th>Necrose Fibrinóide</th>\n",
       "      <th>Microscopia eletrônica</th>\n",
       "      <th>Diagnóstico</th>\n",
       "    </tr>\n",
       "  </thead>\n",
       "  <tbody>\n",
       "    <tr>\n",
       "      <th>0</th>\n",
       "      <td>normal</td>\n",
       "      <td>normal</td>\n",
       "      <td>ausente</td>\n",
       "      <td>apagamento dos processos podocitários (pedicelos)</td>\n",
       "      <td>Doença de Lesões mínimas</td>\n",
       "    </tr>\n",
       "    <tr>\n",
       "      <th>1</th>\n",
       "      <td>normal</td>\n",
       "      <td>normal</td>\n",
       "      <td>ausente</td>\n",
       "      <td>normal</td>\n",
       "      <td>Rim normal</td>\n",
       "    </tr>\n",
       "    <tr>\n",
       "      <th>2</th>\n",
       "      <td>aumentada</td>\n",
       "      <td>normal</td>\n",
       "      <td>ausente</td>\n",
       "      <td>apagamento dos processos podocitários</td>\n",
       "      <td>Glomeruloesclerose segmentar e focal</td>\n",
       "    </tr>\n",
       "    <tr>\n",
       "      <th>3</th>\n",
       "      <td>normal</td>\n",
       "      <td>normal</td>\n",
       "      <td>ausente</td>\n",
       "      <td>apagamento dos processos podocitários (pedicel...</td>\n",
       "      <td>Glomerulopatia membranosa primária</td>\n",
       "    </tr>\n",
       "    <tr>\n",
       "      <th>4</th>\n",
       "      <td>aumento discreto</td>\n",
       "      <td>normal</td>\n",
       "      <td>ausente</td>\n",
       "      <td>apagamento dos processos podocitários (pedicel...</td>\n",
       "      <td>Glomerulopatia membranosa primária</td>\n",
       "    </tr>\n",
       "    <tr>\n",
       "      <th>...</th>\n",
       "      <td>...</td>\n",
       "      <td>...</td>\n",
       "      <td>...</td>\n",
       "      <td>...</td>\n",
       "      <td>...</td>\n",
       "    </tr>\n",
       "    <tr>\n",
       "      <th>95</th>\n",
       "      <td>aumentada</td>\n",
       "      <td>aumentada</td>\n",
       "      <td>ausente</td>\n",
       "      <td>não realizada</td>\n",
       "      <td>Glomerulopatia membranosa secundária</td>\n",
       "    </tr>\n",
       "    <tr>\n",
       "      <th>96</th>\n",
       "      <td>aspecto nodular</td>\n",
       "      <td>aumentada</td>\n",
       "      <td>ausente</td>\n",
       "      <td>não realizada</td>\n",
       "      <td>Nefropatia diabética</td>\n",
       "    </tr>\n",
       "    <tr>\n",
       "      <th>97</th>\n",
       "      <td>aumentada</td>\n",
       "      <td>aumentada</td>\n",
       "      <td>ausente</td>\n",
       "      <td>não realizada</td>\n",
       "      <td>Glomeruloesclerose segmentar e focal variante ...</td>\n",
       "    </tr>\n",
       "    <tr>\n",
       "      <th>98</th>\n",
       "      <td>aumentada</td>\n",
       "      <td>aumentada</td>\n",
       "      <td>ausente</td>\n",
       "      <td>não realizada</td>\n",
       "      <td>Glomeruloesclerose segmentar e focal</td>\n",
       "    </tr>\n",
       "    <tr>\n",
       "      <th>99</th>\n",
       "      <td>aumentada</td>\n",
       "      <td>aumentada</td>\n",
       "      <td>ausente</td>\n",
       "      <td>não realizada</td>\n",
       "      <td>Glomeruloesclerose segmentar e focal variante ...</td>\n",
       "    </tr>\n",
       "  </tbody>\n",
       "</table>\n",
       "<p>100 rows × 5 columns</p>\n",
       "</div>"
      ],
      "text/plain": [
       "    Matriz mesangial Celularidade mesangial Necrose Fibrinóide  \\\n",
       "0             normal                 normal            ausente   \n",
       "1             normal                 normal            ausente   \n",
       "2          aumentada                 normal            ausente   \n",
       "3             normal                 normal            ausente   \n",
       "4   aumento discreto                 normal            ausente   \n",
       "..               ...                    ...                ...   \n",
       "95         aumentada              aumentada            ausente   \n",
       "96   aspecto nodular              aumentada            ausente   \n",
       "97         aumentada              aumentada            ausente   \n",
       "98         aumentada              aumentada            ausente   \n",
       "99         aumentada              aumentada            ausente   \n",
       "\n",
       "                               Microscopia eletrônica  \\\n",
       "0   apagamento dos processos podocitários (pedicelos)   \n",
       "1                                              normal   \n",
       "2               apagamento dos processos podocitários   \n",
       "3   apagamento dos processos podocitários (pedicel...   \n",
       "4   apagamento dos processos podocitários (pedicel...   \n",
       "..                                                ...   \n",
       "95                                      não realizada   \n",
       "96                                      não realizada   \n",
       "97                                      não realizada   \n",
       "98                                      não realizada   \n",
       "99                                      não realizada   \n",
       "\n",
       "                                          Diagnóstico  \n",
       "0                            Doença de Lesões mínimas  \n",
       "1                                          Rim normal  \n",
       "2                Glomeruloesclerose segmentar e focal  \n",
       "3                  Glomerulopatia membranosa primária  \n",
       "4                  Glomerulopatia membranosa primária  \n",
       "..                                                ...  \n",
       "95               Glomerulopatia membranosa secundária  \n",
       "96                               Nefropatia diabética  \n",
       "97  Glomeruloesclerose segmentar e focal variante ...  \n",
       "98               Glomeruloesclerose segmentar e focal  \n",
       "99  Glomeruloesclerose segmentar e focal variante ...  \n",
       "\n",
       "[100 rows x 5 columns]"
      ]
     },
     "metadata": {},
     "output_type": "display_data"
    }
   ],
   "source": [
    "display(colunas_selecionadas)"
   ]
  },
  {
   "cell_type": "code",
   "execution_count": 8,
   "id": "4a63ecd4",
   "metadata": {},
   "outputs": [],
   "source": [
    "# for coluna in df.columns:\n",
    "#     quantidade_valores_unicos = df[coluna].unique()\n",
    "#     print(quantidade_valores_unicos)\n",
    "#     print(f\"Coluna '{coluna}' tem {quantidade_valores_unicos} valores únicos.\")"
   ]
  },
  {
   "cell_type": "code",
   "execution_count": 9,
   "id": "aa35278d",
   "metadata": {},
   "outputs": [],
   "source": [
    "# Crie um objeto RandomOverSampler\n",
    "ros = RandomOverSampler(random_state=0)"
   ]
  },
  {
   "cell_type": "code",
   "execution_count": 10,
   "id": "885e5787",
   "metadata": {},
   "outputs": [],
   "source": [
    "y = df['Diagnóstico']\n",
    "X = df.drop('Diagnóstico', axis = 1)"
   ]
  },
  {
   "cell_type": "code",
   "execution_count": 11,
   "id": "3caa80cc",
   "metadata": {},
   "outputs": [],
   "source": [
    "# Realize o oversampling no seu conjunto de dados de treinamento\n",
    "X_resampled, y_resampled = ros.fit_resample(X, y)"
   ]
  },
  {
   "cell_type": "code",
   "execution_count": 12,
   "id": "076a4aa1",
   "metadata": {},
   "outputs": [],
   "source": [
    "# X_resampled"
   ]
  },
  {
   "cell_type": "code",
   "execution_count": 13,
   "id": "40c41c7b",
   "metadata": {},
   "outputs": [],
   "source": [
    "def train_test(X, y):\n",
    "    return train_test_split(X, y, test_size=0.33, random_state=10)"
   ]
  },
  {
   "cell_type": "markdown",
   "id": "0c62914c",
   "metadata": {},
   "source": [
    "# Testar algoritmos"
   ]
  },
  {
   "cell_type": "code",
   "execution_count": 14,
   "id": "ec762717",
   "metadata": {},
   "outputs": [],
   "source": [
    "from sklearn.model_selection import train_test_split\n",
    "from sklearn.preprocessing import LabelEncoder\n",
    "from sklearn.metrics import accuracy_score\n",
    "from sklearn.linear_model import LogisticRegression\n",
    "from sklearn.tree import DecisionTreeClassifier\n",
    "from sklearn.ensemble import RandomForestClassifier\n",
    "from sklearn.svm import SVC\n",
    "from sklearn.neural_network import MLPClassifier\n",
    "from sklearn.metrics import accuracy_score, precision_score, recall_score, f1_score, confusion_matrix"
   ]
  },
  {
   "cell_type": "code",
   "execution_count": 15,
   "id": "d81cc64d",
   "metadata": {},
   "outputs": [],
   "source": [
    "# Crie um objeto LabelEncoder\n",
    "lb = LabelEncoder()"
   ]
  },
  {
   "cell_type": "code",
   "execution_count": 16,
   "id": "f94a3412",
   "metadata": {},
   "outputs": [],
   "source": [
    "# Percorra todas as colunas do seu DataFrame\n",
    "for column_name in X_resampled.columns:\n",
    "    if X_resampled[column_name].dtype == 'object':  # Verifique se a coluna é do tipo 'object' (categórica)\n",
    "        X_resampled[column_name] = lb.fit_transform(X_resampled[column_name])"
   ]
  },
  {
   "cell_type": "code",
   "execution_count": 17,
   "id": "ced91e2a",
   "metadata": {},
   "outputs": [],
   "source": [
    "X_train, X_test, y_train, y_test = train_test(X_resampled, y_resampled)"
   ]
  },
  {
   "cell_type": "code",
   "execution_count": 18,
   "id": "cb3405b1",
   "metadata": {},
   "outputs": [],
   "source": [
    "from sklearn.metrics import accuracy_score, precision_score, recall_score, f1_score\n",
    "from sklearn.metrics import cohen_kappa_score\n",
    "\n",
    "def treinar_e_avaliar_modelo(modelo, X_train, X_test, y_train, y_test):\n",
    "    # Treinar o modelo\n",
    "    modelo.fit(X_train, y_train)\n",
    "\n",
    "    # Realizar previsões no conjunto de teste\n",
    "    y_pred = modelo.predict(X_test)\n",
    "    \n",
    "    # Calcular as métricas\n",
    "    accuracy = accuracy_score(y_test, y_pred)\n",
    "    precision = precision_score(y_test, y_pred, average='macro')\n",
    "    recall = recall_score(y_test, y_pred, average='macro')\n",
    "    f1 = f1_score(y_test, y_pred, average='macro')\n",
    "    kappa = cohen_kappa_score(y_test, y_pred)\n",
    "    \n",
    "    # Imprimir as métricas\n",
    "    print(f'Acurácia do modelo: {accuracy}')\n",
    "    print(f'Precisão do modelo: {precision}')\n",
    "    print(f'Revocação do modelo: {recall}')\n",
    "    print(f'F1-Score do modelo: {f1}')\n",
    "    print(f'Coeficiente Kappa: {kappa}')"
   ]
  },
  {
   "cell_type": "code",
   "execution_count": 19,
   "id": "5450191a",
   "metadata": {},
   "outputs": [],
   "source": [
    "from sklearn.model_selection import cross_val_score\n",
    "from sklearn.metrics import make_scorer\n",
    "from sklearn.tree import export_graphviz\n",
    "import graphviz\n",
    "\n",
    "def calcular_acuracia_cross_validation(modelo, X, y, cv=5):\n",
    "    \"\"\"\n",
    "    Calcula a acurácia usando validação cruzada.\n",
    "    \n",
    "    Args:\n",
    "        modelo: O modelo de machine learning que você deseja avaliar.\n",
    "        X: O conjunto de dados de características.\n",
    "        y: O conjunto de rótulos alvo.\n",
    "        cv: O número de dobras (folds) na validação cruzada (padrão é 5).\n",
    "        \n",
    "    Returns:\n",
    "        Uma lista de acurácias para cada dobra da validação cruzada.\n",
    "    \"\"\"\n",
    "    # Usando a função cross_val_score para calcular a acurácia\n",
    "    acuracias = cross_val_score(modelo, X, y, cv=cv, scoring=make_scorer(accuracy_score))\n",
    "    \n",
    "    return acuracias\n",
    "\n",
    "# acuracias = calcular_acuracia_cross_validation(modelo, X, y)\n",
    "# print(\"Acurácias por fold:\", acuracias)\n",
    "# print(\"Acurácia média:\", acuracias.mean())"
   ]
  },
  {
   "cell_type": "markdown",
   "id": "cafffed8",
   "metadata": {},
   "source": [
    "## 1. Árvore de Decisão"
   ]
  },
  {
   "cell_type": "code",
   "execution_count": 20,
   "id": "1b1f8fc2",
   "metadata": {},
   "outputs": [],
   "source": [
    "def arvore_decisao(X_train, X_test, y_train, y_test):\n",
    "    # Criando o modelo de Árvore de Decisão\n",
    "    clf = DecisionTreeClassifier(random_state=42, criterion='gini')\n",
    "    return clf"
   ]
  },
  {
   "cell_type": "code",
   "execution_count": 21,
   "id": "0c910769",
   "metadata": {},
   "outputs": [],
   "source": [
    "modelo = arvore_decisao(X_train, X_test, y_train, y_test)"
   ]
  },
  {
   "cell_type": "code",
   "execution_count": 22,
   "id": "e9a11775",
   "metadata": {},
   "outputs": [
    {
     "name": "stdout",
     "output_type": "stream",
     "text": [
      "Acurácia do modelo: 0.9166666666666666\n",
      "Precisão do modelo: 0.9437500000000001\n",
      "Revocação do modelo: 0.9415922619047619\n",
      "F1-Score do modelo: 0.9384233821733822\n",
      "Coeficiente Kappa: 0.9133964817320703\n"
     ]
    }
   ],
   "source": [
    "treinar_e_avaliar_modelo(modelo, X_train, X_test, y_train, y_test)"
   ]
  },
  {
   "cell_type": "code",
   "execution_count": 23,
   "id": "2e6cc3aa",
   "metadata": {},
   "outputs": [
    {
     "name": "stdout",
     "output_type": "stream",
     "text": [
      "Acurácia média: 0.9791288566243195\n"
     ]
    }
   ],
   "source": [
    "acuracias = calcular_acuracia_cross_validation(modelo, X_resampled, y_resampled, cv=5)\n",
    "print(\"Acurácia média:\", acuracias.mean())"
   ]
  },
  {
   "cell_type": "code",
   "execution_count": 24,
   "id": "f2bb9ff3",
   "metadata": {},
   "outputs": [
    {
     "name": "stdout",
     "output_type": "stream",
     "text": [
      "Nós da Árvore de Decisão:\n",
      "|--- Microscopia eletrônica <= 0.50\n",
      "|   |--- class: Glomerulopatia por fibronectina\n",
      "|--- Microscopia eletrônica >  0.50\n",
      "|   |--- vermelho congo <= 1.50\n",
      "|   |   |--- Imunohistoquímica <= 0.50\n",
      "|   |   |   |--- class: Glomerulopatia membranosa secundária\n",
      "|   |   |--- Imunohistoquímica >  0.50\n",
      "|   |   |   |--- Imunohistoquímica <= 1.50\n",
      "|   |   |   |   |--- class: Glomerulopatia membranosa primária\n",
      "|   |   |   |--- Imunohistoquímica >  1.50\n",
      "|   |   |   |   |--- Microangiopatia trombótica <= 0.50\n",
      "|   |   |   |   |   |--- Membrana basal glomerular <= 10.50\n",
      "|   |   |   |   |   |   |--- Podócito <= 1.50\n",
      "|   |   |   |   |   |   |   |--- Microscopia eletrônica <= 1.50\n",
      "|   |   |   |   |   |   |   |   |--- class: Podocitopatia: Glomeruloesclerose segmentar e Focal não amostrada\n",
      "|   |   |   |   |   |   |   |--- Microscopia eletrônica >  1.50\n",
      "|   |   |   |   |   |   |   |   |--- Matriz mesangial <= 0.50\n",
      "|   |   |   |   |   |   |   |   |   |--- class: Nefropatia diabética\n",
      "|   |   |   |   |   |   |   |   |--- Matriz mesangial >  0.50\n",
      "|   |   |   |   |   |   |   |   |   |--- Matriz mesangial <= 2.50\n",
      "|   |   |   |   |   |   |   |   |   |   |--- padrão de deposição <= 1.50\n",
      "|   |   |   |   |   |   |   |   |   |   |   |--- truncated branch of depth 4\n",
      "|   |   |   |   |   |   |   |   |   |   |--- padrão de deposição >  1.50\n",
      "|   |   |   |   |   |   |   |   |   |   |   |--- truncated branch of depth 11\n",
      "|   |   |   |   |   |   |   |   |   |--- Matriz mesangial >  2.50\n",
      "|   |   |   |   |   |   |   |   |   |   |--- Clínica <= 12.00\n",
      "|   |   |   |   |   |   |   |   |   |   |   |--- truncated branch of depth 2\n",
      "|   |   |   |   |   |   |   |   |   |   |--- Clínica >  12.00\n",
      "|   |   |   |   |   |   |   |   |   |   |   |--- truncated branch of depth 3\n",
      "|   |   |   |   |   |   |--- Podócito >  1.50\n",
      "|   |   |   |   |   |   |   |--- class: Doença de Fabry\n",
      "|   |   |   |   |   |--- Membrana basal glomerular >  10.50\n",
      "|   |   |   |   |   |   |--- class: GLOMERULONEFRITE LÚPICA SEGMENTAR E FOCAL – CLASSE III (A) E ASSOCIAÇÃO COM MEMBRANOSA (CLASSE V)\n",
      "|   |   |   |   |--- Microangiopatia trombótica >  0.50\n",
      "|   |   |   |   |   |--- class: Microangiopatia trombótica\n",
      "|   |--- vermelho congo >  1.50\n",
      "|   |   |--- class: Amiloidose\n",
      "\n"
     ]
    }
   ],
   "source": [
    "from sklearn.tree import export_text\n",
    "# Exibindo os nós da árvore de decisão\n",
    "tree_rules = export_text(modelo, feature_names=list(X_train.columns))\n",
    "print(\"Nós da Árvore de Decisão:\")\n",
    "print(tree_rules)"
   ]
  },
  {
   "cell_type": "code",
   "execution_count": 26,
   "id": "ce5ed2a7-2294-44be-9903-aa9368ca82db",
   "metadata": {},
   "outputs": [
    {
     "ename": "ExecutableNotFound",
     "evalue": "failed to execute PosixPath('dot'), make sure the Graphviz executables are on your systems' PATH",
     "output_type": "error",
     "traceback": [
      "\u001b[0;31m---------------------------------------------------------------------------\u001b[0m",
      "\u001b[0;31mFileNotFoundError\u001b[0m                         Traceback (most recent call last)",
      "File \u001b[0;32m~/Documents/github/indicadores-esus-ambiente/venv/lib/python3.11/site-packages/graphviz/backend/execute.py:81\u001b[0m, in \u001b[0;36mrun_check\u001b[0;34m(cmd, input_lines, encoding, quiet, **kwargs)\u001b[0m\n\u001b[1;32m     80\u001b[0m     \u001b[38;5;28;01melse\u001b[39;00m:\n\u001b[0;32m---> 81\u001b[0m         proc \u001b[38;5;241m=\u001b[39m \u001b[43msubprocess\u001b[49m\u001b[38;5;241;43m.\u001b[39;49m\u001b[43mrun\u001b[49m\u001b[43m(\u001b[49m\u001b[43mcmd\u001b[49m\u001b[43m,\u001b[49m\u001b[43m \u001b[49m\u001b[38;5;241;43m*\u001b[39;49m\u001b[38;5;241;43m*\u001b[39;49m\u001b[43mkwargs\u001b[49m\u001b[43m)\u001b[49m\n\u001b[1;32m     82\u001b[0m \u001b[38;5;28;01mexcept\u001b[39;00m \u001b[38;5;167;01mOSError\u001b[39;00m \u001b[38;5;28;01mas\u001b[39;00m e:\n",
      "File \u001b[0;32m/opt/homebrew/Cellar/python@3.11/3.11.7_1/Frameworks/Python.framework/Versions/3.11/lib/python3.11/subprocess.py:548\u001b[0m, in \u001b[0;36mrun\u001b[0;34m(input, capture_output, timeout, check, *popenargs, **kwargs)\u001b[0m\n\u001b[1;32m    546\u001b[0m     kwargs[\u001b[38;5;124m'\u001b[39m\u001b[38;5;124mstderr\u001b[39m\u001b[38;5;124m'\u001b[39m] \u001b[38;5;241m=\u001b[39m PIPE\n\u001b[0;32m--> 548\u001b[0m \u001b[38;5;28;01mwith\u001b[39;00m \u001b[43mPopen\u001b[49m\u001b[43m(\u001b[49m\u001b[38;5;241;43m*\u001b[39;49m\u001b[43mpopenargs\u001b[49m\u001b[43m,\u001b[49m\u001b[43m \u001b[49m\u001b[38;5;241;43m*\u001b[39;49m\u001b[38;5;241;43m*\u001b[39;49m\u001b[43mkwargs\u001b[49m\u001b[43m)\u001b[49m \u001b[38;5;28;01mas\u001b[39;00m process:\n\u001b[1;32m    549\u001b[0m     \u001b[38;5;28;01mtry\u001b[39;00m:\n",
      "File \u001b[0;32m/opt/homebrew/Cellar/python@3.11/3.11.7_1/Frameworks/Python.framework/Versions/3.11/lib/python3.11/subprocess.py:1026\u001b[0m, in \u001b[0;36mPopen.__init__\u001b[0;34m(self, args, bufsize, executable, stdin, stdout, stderr, preexec_fn, close_fds, shell, cwd, env, universal_newlines, startupinfo, creationflags, restore_signals, start_new_session, pass_fds, user, group, extra_groups, encoding, errors, text, umask, pipesize, process_group)\u001b[0m\n\u001b[1;32m   1023\u001b[0m             \u001b[38;5;28mself\u001b[39m\u001b[38;5;241m.\u001b[39mstderr \u001b[38;5;241m=\u001b[39m io\u001b[38;5;241m.\u001b[39mTextIOWrapper(\u001b[38;5;28mself\u001b[39m\u001b[38;5;241m.\u001b[39mstderr,\n\u001b[1;32m   1024\u001b[0m                     encoding\u001b[38;5;241m=\u001b[39mencoding, errors\u001b[38;5;241m=\u001b[39merrors)\n\u001b[0;32m-> 1026\u001b[0m     \u001b[38;5;28;43mself\u001b[39;49m\u001b[38;5;241;43m.\u001b[39;49m\u001b[43m_execute_child\u001b[49m\u001b[43m(\u001b[49m\u001b[43margs\u001b[49m\u001b[43m,\u001b[49m\u001b[43m \u001b[49m\u001b[43mexecutable\u001b[49m\u001b[43m,\u001b[49m\u001b[43m \u001b[49m\u001b[43mpreexec_fn\u001b[49m\u001b[43m,\u001b[49m\u001b[43m \u001b[49m\u001b[43mclose_fds\u001b[49m\u001b[43m,\u001b[49m\n\u001b[1;32m   1027\u001b[0m \u001b[43m                        \u001b[49m\u001b[43mpass_fds\u001b[49m\u001b[43m,\u001b[49m\u001b[43m \u001b[49m\u001b[43mcwd\u001b[49m\u001b[43m,\u001b[49m\u001b[43m \u001b[49m\u001b[43menv\u001b[49m\u001b[43m,\u001b[49m\n\u001b[1;32m   1028\u001b[0m \u001b[43m                        \u001b[49m\u001b[43mstartupinfo\u001b[49m\u001b[43m,\u001b[49m\u001b[43m \u001b[49m\u001b[43mcreationflags\u001b[49m\u001b[43m,\u001b[49m\u001b[43m \u001b[49m\u001b[43mshell\u001b[49m\u001b[43m,\u001b[49m\n\u001b[1;32m   1029\u001b[0m \u001b[43m                        \u001b[49m\u001b[43mp2cread\u001b[49m\u001b[43m,\u001b[49m\u001b[43m \u001b[49m\u001b[43mp2cwrite\u001b[49m\u001b[43m,\u001b[49m\n\u001b[1;32m   1030\u001b[0m \u001b[43m                        \u001b[49m\u001b[43mc2pread\u001b[49m\u001b[43m,\u001b[49m\u001b[43m \u001b[49m\u001b[43mc2pwrite\u001b[49m\u001b[43m,\u001b[49m\n\u001b[1;32m   1031\u001b[0m \u001b[43m                        \u001b[49m\u001b[43merrread\u001b[49m\u001b[43m,\u001b[49m\u001b[43m \u001b[49m\u001b[43merrwrite\u001b[49m\u001b[43m,\u001b[49m\n\u001b[1;32m   1032\u001b[0m \u001b[43m                        \u001b[49m\u001b[43mrestore_signals\u001b[49m\u001b[43m,\u001b[49m\n\u001b[1;32m   1033\u001b[0m \u001b[43m                        \u001b[49m\u001b[43mgid\u001b[49m\u001b[43m,\u001b[49m\u001b[43m \u001b[49m\u001b[43mgids\u001b[49m\u001b[43m,\u001b[49m\u001b[43m \u001b[49m\u001b[43muid\u001b[49m\u001b[43m,\u001b[49m\u001b[43m \u001b[49m\u001b[43mumask\u001b[49m\u001b[43m,\u001b[49m\n\u001b[1;32m   1034\u001b[0m \u001b[43m                        \u001b[49m\u001b[43mstart_new_session\u001b[49m\u001b[43m,\u001b[49m\u001b[43m \u001b[49m\u001b[43mprocess_group\u001b[49m\u001b[43m)\u001b[49m\n\u001b[1;32m   1035\u001b[0m \u001b[38;5;28;01mexcept\u001b[39;00m:\n\u001b[1;32m   1036\u001b[0m     \u001b[38;5;66;03m# Cleanup if the child failed starting.\u001b[39;00m\n",
      "File \u001b[0;32m/opt/homebrew/Cellar/python@3.11/3.11.7_1/Frameworks/Python.framework/Versions/3.11/lib/python3.11/subprocess.py:1950\u001b[0m, in \u001b[0;36mPopen._execute_child\u001b[0;34m(self, args, executable, preexec_fn, close_fds, pass_fds, cwd, env, startupinfo, creationflags, shell, p2cread, p2cwrite, c2pread, c2pwrite, errread, errwrite, restore_signals, gid, gids, uid, umask, start_new_session, process_group)\u001b[0m\n\u001b[1;32m   1949\u001b[0m         err_msg \u001b[38;5;241m=\u001b[39m os\u001b[38;5;241m.\u001b[39mstrerror(errno_num)\n\u001b[0;32m-> 1950\u001b[0m     \u001b[38;5;28;01mraise\u001b[39;00m child_exception_type(errno_num, err_msg, err_filename)\n\u001b[1;32m   1951\u001b[0m \u001b[38;5;28;01mraise\u001b[39;00m child_exception_type(err_msg)\n",
      "\u001b[0;31mFileNotFoundError\u001b[0m: [Errno 2] No such file or directory: PosixPath('dot')",
      "\nThe above exception was the direct cause of the following exception:\n",
      "\u001b[0;31mExecutableNotFound\u001b[0m                        Traceback (most recent call last)",
      "Cell \u001b[0;32mIn[26], line 11\u001b[0m\n\u001b[1;32m      9\u001b[0m \u001b[38;5;66;03m# Criar e exibir o gráfico\u001b[39;00m\n\u001b[1;32m     10\u001b[0m graph \u001b[38;5;241m=\u001b[39m graphviz\u001b[38;5;241m.\u001b[39mSource(dot_data)\n\u001b[0;32m---> 11\u001b[0m \u001b[43mgraph\u001b[49m\u001b[38;5;241;43m.\u001b[39;49m\u001b[43mrender\u001b[49m\u001b[43m(\u001b[49m\u001b[43mfilename\u001b[49m\u001b[38;5;241;43m=\u001b[39;49m\u001b[38;5;124;43m'\u001b[39;49m\u001b[38;5;124;43mdecision_tree\u001b[39;49m\u001b[38;5;124;43m'\u001b[39;49m\u001b[43m,\u001b[49m\u001b[43m \u001b[49m\u001b[38;5;28;43mformat\u001b[39;49m\u001b[38;5;241;43m=\u001b[39;49m\u001b[38;5;124;43m'\u001b[39;49m\u001b[38;5;124;43mpng\u001b[39;49m\u001b[38;5;124;43m'\u001b[39;49m\u001b[43m,\u001b[49m\u001b[43m \u001b[49m\u001b[43mcleanup\u001b[49m\u001b[38;5;241;43m=\u001b[39;49m\u001b[38;5;28;43;01mTrue\u001b[39;49;00m\u001b[43m)\u001b[49m\n\u001b[1;32m     12\u001b[0m graph\u001b[38;5;241m.\u001b[39mview(\u001b[38;5;124m'\u001b[39m\u001b[38;5;124mdecision_tree\u001b[39m\u001b[38;5;124m'\u001b[39m)\n",
      "File \u001b[0;32m~/Documents/github/indicadores-esus-ambiente/venv/lib/python3.11/site-packages/graphviz/_tools.py:171\u001b[0m, in \u001b[0;36mdeprecate_positional_args.<locals>.decorator.<locals>.wrapper\u001b[0;34m(*args, **kwargs)\u001b[0m\n\u001b[1;32m    162\u001b[0m     wanted \u001b[38;5;241m=\u001b[39m \u001b[38;5;124m'\u001b[39m\u001b[38;5;124m, \u001b[39m\u001b[38;5;124m'\u001b[39m\u001b[38;5;241m.\u001b[39mjoin(\u001b[38;5;124mf\u001b[39m\u001b[38;5;124m'\u001b[39m\u001b[38;5;132;01m{\u001b[39;00mname\u001b[38;5;132;01m}\u001b[39;00m\u001b[38;5;124m=\u001b[39m\u001b[38;5;132;01m{\u001b[39;00mvalue\u001b[38;5;132;01m!r}\u001b[39;00m\u001b[38;5;124m'\u001b[39m\n\u001b[1;32m    163\u001b[0m                        \u001b[38;5;28;01mfor\u001b[39;00m name, value \u001b[38;5;129;01min\u001b[39;00m deprecated\u001b[38;5;241m.\u001b[39mitems())\n\u001b[1;32m    164\u001b[0m     warnings\u001b[38;5;241m.\u001b[39mwarn(\u001b[38;5;124mf\u001b[39m\u001b[38;5;124m'\u001b[39m\u001b[38;5;124mThe signature of \u001b[39m\u001b[38;5;132;01m{\u001b[39;00mfunc\u001b[38;5;241m.\u001b[39m\u001b[38;5;18m__name__\u001b[39m\u001b[38;5;132;01m}\u001b[39;00m\u001b[38;5;124m will be reduced\u001b[39m\u001b[38;5;124m'\u001b[39m\n\u001b[1;32m    165\u001b[0m                   \u001b[38;5;124mf\u001b[39m\u001b[38;5;124m'\u001b[39m\u001b[38;5;124m to \u001b[39m\u001b[38;5;132;01m{\u001b[39;00msupported_number\u001b[38;5;132;01m}\u001b[39;00m\u001b[38;5;124m positional args\u001b[39m\u001b[38;5;124m'\u001b[39m\n\u001b[1;32m    166\u001b[0m                   \u001b[38;5;124mf\u001b[39m\u001b[38;5;124m'\u001b[39m\u001b[38;5;124m \u001b[39m\u001b[38;5;132;01m{\u001b[39;00m\u001b[38;5;28mlist\u001b[39m(supported)\u001b[38;5;132;01m}\u001b[39;00m\u001b[38;5;124m: pass \u001b[39m\u001b[38;5;132;01m{\u001b[39;00mwanted\u001b[38;5;132;01m}\u001b[39;00m\u001b[38;5;124m'\u001b[39m\n\u001b[1;32m    167\u001b[0m                   \u001b[38;5;124m'\u001b[39m\u001b[38;5;124m as keyword arg(s)\u001b[39m\u001b[38;5;124m'\u001b[39m,\n\u001b[1;32m    168\u001b[0m                   stacklevel\u001b[38;5;241m=\u001b[39mstacklevel,\n\u001b[1;32m    169\u001b[0m                   category\u001b[38;5;241m=\u001b[39mcategory)\n\u001b[0;32m--> 171\u001b[0m \u001b[38;5;28;01mreturn\u001b[39;00m \u001b[43mfunc\u001b[49m\u001b[43m(\u001b[49m\u001b[38;5;241;43m*\u001b[39;49m\u001b[43margs\u001b[49m\u001b[43m,\u001b[49m\u001b[43m \u001b[49m\u001b[38;5;241;43m*\u001b[39;49m\u001b[38;5;241;43m*\u001b[39;49m\u001b[43mkwargs\u001b[49m\u001b[43m)\u001b[49m\n",
      "File \u001b[0;32m~/Documents/github/indicadores-esus-ambiente/venv/lib/python3.11/site-packages/graphviz/rendering.py:122\u001b[0m, in \u001b[0;36mRender.render\u001b[0;34m(self, filename, directory, view, cleanup, format, renderer, formatter, neato_no_op, quiet, quiet_view, outfile, engine, raise_if_result_exists, overwrite_source)\u001b[0m\n\u001b[1;32m    118\u001b[0m filepath \u001b[38;5;241m=\u001b[39m \u001b[38;5;28mself\u001b[39m\u001b[38;5;241m.\u001b[39msave(filename, directory\u001b[38;5;241m=\u001b[39mdirectory, skip_existing\u001b[38;5;241m=\u001b[39m\u001b[38;5;28;01mNone\u001b[39;00m)\n\u001b[1;32m    120\u001b[0m args\u001b[38;5;241m.\u001b[39mappend(filepath)\n\u001b[0;32m--> 122\u001b[0m rendered \u001b[38;5;241m=\u001b[39m \u001b[38;5;28;43mself\u001b[39;49m\u001b[38;5;241;43m.\u001b[39;49m\u001b[43m_render\u001b[49m\u001b[43m(\u001b[49m\u001b[38;5;241;43m*\u001b[39;49m\u001b[43margs\u001b[49m\u001b[43m,\u001b[49m\u001b[43m \u001b[49m\u001b[38;5;241;43m*\u001b[39;49m\u001b[38;5;241;43m*\u001b[39;49m\u001b[43mkwargs\u001b[49m\u001b[43m)\u001b[49m\n\u001b[1;32m    124\u001b[0m \u001b[38;5;28;01mif\u001b[39;00m cleanup:\n\u001b[1;32m    125\u001b[0m     log\u001b[38;5;241m.\u001b[39mdebug(\u001b[38;5;124m'\u001b[39m\u001b[38;5;124mdelete \u001b[39m\u001b[38;5;132;01m%r\u001b[39;00m\u001b[38;5;124m'\u001b[39m, filepath)\n",
      "File \u001b[0;32m~/Documents/github/indicadores-esus-ambiente/venv/lib/python3.11/site-packages/graphviz/_tools.py:171\u001b[0m, in \u001b[0;36mdeprecate_positional_args.<locals>.decorator.<locals>.wrapper\u001b[0;34m(*args, **kwargs)\u001b[0m\n\u001b[1;32m    162\u001b[0m     wanted \u001b[38;5;241m=\u001b[39m \u001b[38;5;124m'\u001b[39m\u001b[38;5;124m, \u001b[39m\u001b[38;5;124m'\u001b[39m\u001b[38;5;241m.\u001b[39mjoin(\u001b[38;5;124mf\u001b[39m\u001b[38;5;124m'\u001b[39m\u001b[38;5;132;01m{\u001b[39;00mname\u001b[38;5;132;01m}\u001b[39;00m\u001b[38;5;124m=\u001b[39m\u001b[38;5;132;01m{\u001b[39;00mvalue\u001b[38;5;132;01m!r}\u001b[39;00m\u001b[38;5;124m'\u001b[39m\n\u001b[1;32m    163\u001b[0m                        \u001b[38;5;28;01mfor\u001b[39;00m name, value \u001b[38;5;129;01min\u001b[39;00m deprecated\u001b[38;5;241m.\u001b[39mitems())\n\u001b[1;32m    164\u001b[0m     warnings\u001b[38;5;241m.\u001b[39mwarn(\u001b[38;5;124mf\u001b[39m\u001b[38;5;124m'\u001b[39m\u001b[38;5;124mThe signature of \u001b[39m\u001b[38;5;132;01m{\u001b[39;00mfunc\u001b[38;5;241m.\u001b[39m\u001b[38;5;18m__name__\u001b[39m\u001b[38;5;132;01m}\u001b[39;00m\u001b[38;5;124m will be reduced\u001b[39m\u001b[38;5;124m'\u001b[39m\n\u001b[1;32m    165\u001b[0m                   \u001b[38;5;124mf\u001b[39m\u001b[38;5;124m'\u001b[39m\u001b[38;5;124m to \u001b[39m\u001b[38;5;132;01m{\u001b[39;00msupported_number\u001b[38;5;132;01m}\u001b[39;00m\u001b[38;5;124m positional args\u001b[39m\u001b[38;5;124m'\u001b[39m\n\u001b[1;32m    166\u001b[0m                   \u001b[38;5;124mf\u001b[39m\u001b[38;5;124m'\u001b[39m\u001b[38;5;124m \u001b[39m\u001b[38;5;132;01m{\u001b[39;00m\u001b[38;5;28mlist\u001b[39m(supported)\u001b[38;5;132;01m}\u001b[39;00m\u001b[38;5;124m: pass \u001b[39m\u001b[38;5;132;01m{\u001b[39;00mwanted\u001b[38;5;132;01m}\u001b[39;00m\u001b[38;5;124m'\u001b[39m\n\u001b[1;32m    167\u001b[0m                   \u001b[38;5;124m'\u001b[39m\u001b[38;5;124m as keyword arg(s)\u001b[39m\u001b[38;5;124m'\u001b[39m,\n\u001b[1;32m    168\u001b[0m                   stacklevel\u001b[38;5;241m=\u001b[39mstacklevel,\n\u001b[1;32m    169\u001b[0m                   category\u001b[38;5;241m=\u001b[39mcategory)\n\u001b[0;32m--> 171\u001b[0m \u001b[38;5;28;01mreturn\u001b[39;00m \u001b[43mfunc\u001b[49m\u001b[43m(\u001b[49m\u001b[38;5;241;43m*\u001b[39;49m\u001b[43margs\u001b[49m\u001b[43m,\u001b[49m\u001b[43m \u001b[49m\u001b[38;5;241;43m*\u001b[39;49m\u001b[38;5;241;43m*\u001b[39;49m\u001b[43mkwargs\u001b[49m\u001b[43m)\u001b[49m\n",
      "File \u001b[0;32m~/Documents/github/indicadores-esus-ambiente/venv/lib/python3.11/site-packages/graphviz/backend/rendering.py:324\u001b[0m, in \u001b[0;36mrender\u001b[0;34m(engine, format, filepath, renderer, formatter, neato_no_op, quiet, outfile, raise_if_result_exists, overwrite_filepath)\u001b[0m\n\u001b[1;32m    320\u001b[0m     \u001b[38;5;28;01mraise\u001b[39;00m exceptions\u001b[38;5;241m.\u001b[39mFileExistsError(\u001b[38;5;124mf\u001b[39m\u001b[38;5;124m'\u001b[39m\u001b[38;5;124moutput file exists: \u001b[39m\u001b[38;5;132;01m{\u001b[39;00mos\u001b[38;5;241m.\u001b[39mfspath(outfile)\u001b[38;5;132;01m!r}\u001b[39;00m\u001b[38;5;124m'\u001b[39m)\n\u001b[1;32m    322\u001b[0m cmd \u001b[38;5;241m+\u001b[39m\u001b[38;5;241m=\u001b[39m args\n\u001b[0;32m--> 324\u001b[0m \u001b[43mexecute\u001b[49m\u001b[38;5;241;43m.\u001b[39;49m\u001b[43mrun_check\u001b[49m\u001b[43m(\u001b[49m\u001b[43mcmd\u001b[49m\u001b[43m,\u001b[49m\n\u001b[1;32m    325\u001b[0m \u001b[43m                  \u001b[49m\u001b[43mcwd\u001b[49m\u001b[38;5;241;43m=\u001b[39;49m\u001b[43mfilepath\u001b[49m\u001b[38;5;241;43m.\u001b[39;49m\u001b[43mparent\u001b[49m\u001b[43m \u001b[49m\u001b[38;5;28;43;01mif\u001b[39;49;00m\u001b[43m \u001b[49m\u001b[43mfilepath\u001b[49m\u001b[38;5;241;43m.\u001b[39;49m\u001b[43mparent\u001b[49m\u001b[38;5;241;43m.\u001b[39;49m\u001b[43mparts\u001b[49m\u001b[43m \u001b[49m\u001b[38;5;28;43;01melse\u001b[39;49;00m\u001b[43m \u001b[49m\u001b[38;5;28;43;01mNone\u001b[39;49;00m\u001b[43m,\u001b[49m\n\u001b[1;32m    326\u001b[0m \u001b[43m                  \u001b[49m\u001b[43mquiet\u001b[49m\u001b[38;5;241;43m=\u001b[39;49m\u001b[43mquiet\u001b[49m\u001b[43m,\u001b[49m\n\u001b[1;32m    327\u001b[0m \u001b[43m                  \u001b[49m\u001b[43mcapture_output\u001b[49m\u001b[38;5;241;43m=\u001b[39;49m\u001b[38;5;28;43;01mTrue\u001b[39;49;00m\u001b[43m)\u001b[49m\n\u001b[1;32m    329\u001b[0m \u001b[38;5;28;01mreturn\u001b[39;00m os\u001b[38;5;241m.\u001b[39mfspath(outfile)\n",
      "File \u001b[0;32m~/Documents/github/indicadores-esus-ambiente/venv/lib/python3.11/site-packages/graphviz/backend/execute.py:84\u001b[0m, in \u001b[0;36mrun_check\u001b[0;34m(cmd, input_lines, encoding, quiet, **kwargs)\u001b[0m\n\u001b[1;32m     82\u001b[0m \u001b[38;5;28;01mexcept\u001b[39;00m \u001b[38;5;167;01mOSError\u001b[39;00m \u001b[38;5;28;01mas\u001b[39;00m e:\n\u001b[1;32m     83\u001b[0m     \u001b[38;5;28;01mif\u001b[39;00m e\u001b[38;5;241m.\u001b[39merrno \u001b[38;5;241m==\u001b[39m errno\u001b[38;5;241m.\u001b[39mENOENT:\n\u001b[0;32m---> 84\u001b[0m         \u001b[38;5;28;01mraise\u001b[39;00m ExecutableNotFound(cmd) \u001b[38;5;28;01mfrom\u001b[39;00m \u001b[38;5;21;01me\u001b[39;00m\n\u001b[1;32m     85\u001b[0m     \u001b[38;5;28;01mraise\u001b[39;00m\n\u001b[1;32m     87\u001b[0m \u001b[38;5;28;01mif\u001b[39;00m \u001b[38;5;129;01mnot\u001b[39;00m quiet \u001b[38;5;129;01mand\u001b[39;00m proc\u001b[38;5;241m.\u001b[39mstderr:\n",
      "\u001b[0;31mExecutableNotFound\u001b[0m: failed to execute PosixPath('dot'), make sure the Graphviz executables are on your systems' PATH"
     ]
    }
   ],
   "source": [
    "from sklearn.tree import export_graphviz\n",
    "import graphviz\n",
    "\n",
    "# Exportar a árvore de decisão para um arquivo .dot\n",
    "dot_data = export_graphviz(modelo, out_file=None, feature_names=list(X_train.columns),\n",
    "                           class_names=[str(c) for c in modelo.classes_], filled=True, rounded=True,\n",
    "                           special_characters=True)\n",
    "\n",
    "# Criar e exibir o gráfico\n",
    "graph = graphviz.Source(dot_data)\n",
    "graph.render(filename='decision_tree', format='png', cleanup=True)\n",
    "graph.view('decision_tree')"
   ]
  },
  {
   "cell_type": "markdown",
   "id": "a63fbf66",
   "metadata": {},
   "source": [
    "## 2. Regressão Logística"
   ]
  },
  {
   "cell_type": "code",
   "execution_count": null,
   "id": "41d88260",
   "metadata": {},
   "outputs": [],
   "source": [
    "def regresaoLogistica(X_train, X_test, y_train, y_test):\n",
    "    # Crie um objeto LogisticRegression\n",
    "    clf = LogisticRegression()\n",
    "    \n",
    "    return clf"
   ]
  },
  {
   "cell_type": "code",
   "execution_count": null,
   "id": "f0ea6383",
   "metadata": {},
   "outputs": [],
   "source": [
    "modelo = regresaoLogistica(X_train, X_test, y_train, y_test)"
   ]
  },
  {
   "cell_type": "code",
   "execution_count": null,
   "id": "38042ed2",
   "metadata": {},
   "outputs": [],
   "source": [
    "treinar_e_avaliar_modelo(modelo, X_train, X_test, y_train, y_test)"
   ]
  },
  {
   "cell_type": "code",
   "execution_count": null,
   "id": "2632ae1e",
   "metadata": {
    "scrolled": true
   },
   "outputs": [],
   "source": [
    "acuracias = calcular_acuracia_cross_validation(modelo, X_resampled, y_resampled, cv=5)\n",
    "print(\"Acurácia média:\", acuracias.mean())"
   ]
  },
  {
   "cell_type": "markdown",
   "id": "a9500af8",
   "metadata": {},
   "source": [
    "## 3. Random Forest"
   ]
  },
  {
   "cell_type": "code",
   "execution_count": null,
   "id": "1c992ef8",
   "metadata": {},
   "outputs": [],
   "source": [
    "def random_forest(X_train, X_test, y_train, y_test):\n",
    "    # Crie um objeto RandomForestClassifier\n",
    "    clf = RandomForestClassifier(n_estimators=100)  # Você pode ajustar o número de árvores (n_estimators) conforme necessário\n",
    "    \n",
    "    return clf"
   ]
  },
  {
   "cell_type": "code",
   "execution_count": null,
   "id": "bc032615",
   "metadata": {},
   "outputs": [],
   "source": [
    "modelo = random_forest(X_train, X_test, y_train, y_test)"
   ]
  },
  {
   "cell_type": "code",
   "execution_count": null,
   "id": "9a1459f2",
   "metadata": {},
   "outputs": [],
   "source": [
    "treinar_e_avaliar_modelo(modelo, X_train, X_test, y_train, y_test)"
   ]
  },
  {
   "cell_type": "code",
   "execution_count": null,
   "id": "02ad4137",
   "metadata": {},
   "outputs": [],
   "source": [
    "acuracias = calcular_acuracia_cross_validation(modelo, X_resampled, y_resampled, cv=5)\n",
    "print(\"Acurácia média:\", acuracias.mean())"
   ]
  },
  {
   "cell_type": "markdown",
   "id": "b5299533",
   "metadata": {},
   "source": [
    "## 4. SVM"
   ]
  },
  {
   "cell_type": "code",
   "execution_count": null,
   "id": "dba0d1ef",
   "metadata": {},
   "outputs": [],
   "source": [
    "def svm(X_train, X_test, y_train, y_test):\n",
    "    # Crie um objeto SVM (SVC para classificação)\n",
    "    clf = SVC(kernel='linear')  # Você pode escolher um kernel apropriado, como 'linear', 'rbf', ou 'poly'\n",
    "    \n",
    "    return clf"
   ]
  },
  {
   "cell_type": "code",
   "execution_count": null,
   "id": "1900bfe2",
   "metadata": {},
   "outputs": [],
   "source": [
    "modelo = svm(X_train, X_test, y_train, y_test)"
   ]
  },
  {
   "cell_type": "code",
   "execution_count": null,
   "id": "ceb10e1d",
   "metadata": {},
   "outputs": [],
   "source": [
    "treinar_e_avaliar_modelo(modelo, X_train, X_test, y_train, y_test)"
   ]
  },
  {
   "cell_type": "code",
   "execution_count": 9,
   "id": "9bb9d16a",
   "metadata": {},
   "outputs": [
    {
     "ename": "NameError",
     "evalue": "name 'calcular_acuracia_cross_validation' is not defined",
     "output_type": "error",
     "traceback": [
      "\u001b[0;31m---------------------------------------------------------------------------\u001b[0m",
      "\u001b[0;31mNameError\u001b[0m                                 Traceback (most recent call last)",
      "Cell \u001b[0;32mIn[9], line 1\u001b[0m\n\u001b[0;32m----> 1\u001b[0m acuracias \u001b[38;5;241m=\u001b[39m \u001b[43mcalcular_acuracia_cross_validation\u001b[49m(modelo, X_resampled, y_resampled, cv\u001b[38;5;241m=\u001b[39m\u001b[38;5;241m5\u001b[39m)\n\u001b[1;32m      2\u001b[0m \u001b[38;5;28mprint\u001b[39m(\u001b[38;5;124m\"\u001b[39m\u001b[38;5;124mAcurácia média:\u001b[39m\u001b[38;5;124m\"\u001b[39m, acuracias\u001b[38;5;241m.\u001b[39mmean())\n",
      "\u001b[0;31mNameError\u001b[0m: name 'calcular_acuracia_cross_validation' is not defined"
     ]
    }
   ],
   "source": [
    "acuracias = calcular_acuracia_cross_validation(modelo, X_resampled, y_resampled, cv=5)\n",
    "print(\"Acurácia média:\", acuracias.mean())"
   ]
  },
  {
   "cell_type": "markdown",
   "id": "4d1ce8f3",
   "metadata": {},
   "source": [
    "## 5. Rede Neural"
   ]
  },
  {
   "cell_type": "code",
   "execution_count": 10,
   "id": "43fbde98",
   "metadata": {},
   "outputs": [],
   "source": [
    "def rede_neural(X_train, X_test, y_train, y_test):\n",
    "    # Crie um objeto MLPClassifier\n",
    "    clf = MLPClassifier(hidden_layer_sizes=(100, 50), max_iter=500)  # Você pode ajustar o número de camadas e unidades ocultas conforme necessário\n",
    "    \n",
    "    return clf"
   ]
  },
  {
   "cell_type": "code",
   "execution_count": 113,
   "id": "18bb2219",
   "metadata": {},
   "outputs": [],
   "source": [
    "modelo = rede_neural(X_train, X_test, y_train, y_test)"
   ]
  },
  {
   "cell_type": "code",
   "execution_count": 114,
   "id": "b30c0638",
   "metadata": {},
   "outputs": [
    {
     "name": "stdout",
     "output_type": "stream",
     "text": [
      "Acurácia do modelo: 0.8854166666666666\n",
      "Precisão do modelo: 0.9248511904761905\n",
      "Revocação do modelo: 0.9196428571428572\n",
      "F1-Score do modelo: 0.9052884615384615\n"
     ]
    },
    {
     "name": "stderr",
     "output_type": "stream",
     "text": [
      "/Users/jair/opt/anaconda3/lib/python3.9/site-packages/sklearn/neural_network/_multilayer_perceptron.py:686: ConvergenceWarning: Stochastic Optimizer: Maximum iterations (500) reached and the optimization hasn't converged yet.\n",
      "  warnings.warn(\n"
     ]
    }
   ],
   "source": [
    "treinar_e_avaliar_modelo(modelo, X_train, X_test, y_train, y_test)"
   ]
  },
  {
   "cell_type": "code",
   "execution_count": 115,
   "id": "51bdb8c9",
   "metadata": {},
   "outputs": [
    {
     "name": "stdout",
     "output_type": "stream",
     "text": [
      "Acurácia média: 0.9514216575922564\n"
     ]
    }
   ],
   "source": [
    "acuracias = calcular_acuracia_cross_validation(modelo, X_resampled, y_resampled, cv=5)\n",
    "print(\"Acurácia média:\", acuracias.mean())"
   ]
  },
  {
   "cell_type": "code",
   "execution_count": null,
   "id": "15a07e68",
   "metadata": {},
   "outputs": [],
   "source": []
  }
 ],
 "metadata": {
  "kernelspec": {
   "display_name": "venv",
   "language": "python",
   "name": "venv"
  },
  "language_info": {
   "codemirror_mode": {
    "name": "ipython",
    "version": 3
   },
   "file_extension": ".py",
   "mimetype": "text/x-python",
   "name": "python",
   "nbconvert_exporter": "python",
   "pygments_lexer": "ipython3",
   "version": "3.11.7"
  },
  "widgets": {
   "application/vnd.jupyter.widget-state+json": {
    "state": {},
    "version_major": 2,
    "version_minor": 0
   }
  }
 },
 "nbformat": 4,
 "nbformat_minor": 5
}
