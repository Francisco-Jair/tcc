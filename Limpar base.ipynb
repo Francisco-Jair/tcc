{
 "cells": [
  {
   "cell_type": "code",
   "execution_count": 27,
   "id": "29ef4353",
   "metadata": {},
   "outputs": [],
   "source": [
    "#pip install -U imbalanced-learn"
   ]
  },
  {
   "cell_type": "code",
   "execution_count": 26,
   "id": "e4d00c6d",
   "metadata": {},
   "outputs": [],
   "source": [
    "import pandas as pd\n",
    "from imblearn.over_sampling import RandomOverSampler"
   ]
  },
  {
   "cell_type": "markdown",
   "id": "dbe07cf8",
   "metadata": {},
   "source": [
    "## carregar base"
   ]
  },
  {
   "cell_type": "code",
   "execution_count": 7,
   "id": "0c57a25c",
   "metadata": {},
   "outputs": [],
   "source": [
    "df = pd.read_excel('base_dados/base-100-limpa.xlsx')"
   ]
  },
  {
   "cell_type": "code",
   "execution_count": 8,
   "id": "bb038093",
   "metadata": {},
   "outputs": [
    {
     "data": {
      "text/plain": [
       "Index(['Unnamed: 0', 'Matriz mesangial', 'Celularidade mesangial',\n",
       "       'Membrana basal glomerular', 'Espaço de Bowman', 'Tufo glomerular',\n",
       "       'Podócito', 'Necrose tubular aguda', 'Vacuolização do epitélio',\n",
       "       'Cristais', 'Calcificação', 'Tubulite', 'Cilindros', 'Atrofia tubular',\n",
       "       'Graduação de atrofia', 'Fibrose intersitical', 'Graduação da fibrose',\n",
       "       'Infiltrado inflamatório', 'tipo de infiltrado inflamatório',\n",
       "       'Vasculite', 'Microangiopatia trombótica', 'Trombos', 'Hialinose',\n",
       "       'Necrose Fibrinóide', 'IMUNOFLUORESCÊNCIA', 'padrão de deposição',\n",
       "       'Imunodepósitos', 'Imunohistoquímica', 'Microscopia eletrônica',\n",
       "       'vermelho congo', 'Clínica', 'Diagnóstico'],\n",
       "      dtype='object')"
      ]
     },
     "execution_count": 8,
     "metadata": {},
     "output_type": "execute_result"
    }
   ],
   "source": [
    "df.columns"
   ]
  },
  {
   "cell_type": "code",
   "execution_count": 23,
   "id": "fc8811b6",
   "metadata": {},
   "outputs": [],
   "source": [
    "df.drop([\"Unnamed: 0\"], axis=1, inplace=True)"
   ]
  },
  {
   "cell_type": "code",
   "execution_count": 24,
   "id": "234b2a02",
   "metadata": {},
   "outputs": [
    {
     "data": {
      "text/html": [
       "<div>\n",
       "<style scoped>\n",
       "    .dataframe tbody tr th:only-of-type {\n",
       "        vertical-align: middle;\n",
       "    }\n",
       "\n",
       "    .dataframe tbody tr th {\n",
       "        vertical-align: top;\n",
       "    }\n",
       "\n",
       "    .dataframe thead th {\n",
       "        text-align: right;\n",
       "    }\n",
       "</style>\n",
       "<table border=\"1\" class=\"dataframe\">\n",
       "  <thead>\n",
       "    <tr style=\"text-align: right;\">\n",
       "      <th></th>\n",
       "      <th>Matriz mesangial</th>\n",
       "      <th>Celularidade mesangial</th>\n",
       "      <th>Membrana basal glomerular</th>\n",
       "      <th>Espaço de Bowman</th>\n",
       "      <th>Tufo glomerular</th>\n",
       "      <th>Podócito</th>\n",
       "      <th>Necrose tubular aguda</th>\n",
       "      <th>Vacuolização do epitélio</th>\n",
       "      <th>Cristais</th>\n",
       "      <th>Calcificação</th>\n",
       "      <th>...</th>\n",
       "      <th>Hialinose</th>\n",
       "      <th>Necrose Fibrinóide</th>\n",
       "      <th>IMUNOFLUORESCÊNCIA</th>\n",
       "      <th>padrão de deposição</th>\n",
       "      <th>Imunodepósitos</th>\n",
       "      <th>Imunohistoquímica</th>\n",
       "      <th>Microscopia eletrônica</th>\n",
       "      <th>vermelho congo</th>\n",
       "      <th>Clínica</th>\n",
       "      <th>Diagnóstico</th>\n",
       "    </tr>\n",
       "  </thead>\n",
       "  <tbody>\n",
       "    <tr>\n",
       "      <th>0</th>\n",
       "      <td>normal</td>\n",
       "      <td>normal</td>\n",
       "      <td>normal</td>\n",
       "      <td>normal</td>\n",
       "      <td>normal</td>\n",
       "      <td>normal</td>\n",
       "      <td>ausente</td>\n",
       "      <td>ausente</td>\n",
       "      <td>ausente</td>\n",
       "      <td>ausente</td>\n",
       "      <td>...</td>\n",
       "      <td>ausente</td>\n",
       "      <td>ausente</td>\n",
       "      <td>negativa</td>\n",
       "      <td>negativa</td>\n",
       "      <td>negativa</td>\n",
       "      <td>não realizada</td>\n",
       "      <td>apagamento dos processos podocitários (pedicelos)</td>\n",
       "      <td>não realizado</td>\n",
       "      <td>síndrome nefrótica</td>\n",
       "      <td>Doença de Lesões mínimas</td>\n",
       "    </tr>\n",
       "    <tr>\n",
       "      <th>1</th>\n",
       "      <td>normal</td>\n",
       "      <td>normal</td>\n",
       "      <td>normal</td>\n",
       "      <td>normal</td>\n",
       "      <td>normal</td>\n",
       "      <td>normal</td>\n",
       "      <td>ausente</td>\n",
       "      <td>ausente</td>\n",
       "      <td>ausente</td>\n",
       "      <td>ausente</td>\n",
       "      <td>...</td>\n",
       "      <td>ausente</td>\n",
       "      <td>ausente</td>\n",
       "      <td>negativa</td>\n",
       "      <td>negativa</td>\n",
       "      <td>negativa</td>\n",
       "      <td>não realizada</td>\n",
       "      <td>normal</td>\n",
       "      <td>não realizado</td>\n",
       "      <td>hematúria</td>\n",
       "      <td>Rim normal</td>\n",
       "    </tr>\n",
       "    <tr>\n",
       "      <th>2</th>\n",
       "      <td>aumentada</td>\n",
       "      <td>normal</td>\n",
       "      <td>normal</td>\n",
       "      <td>adesão</td>\n",
       "      <td>esclerose segmentar</td>\n",
       "      <td>hipertrofia</td>\n",
       "      <td>ausente</td>\n",
       "      <td>ausente</td>\n",
       "      <td>ausente</td>\n",
       "      <td>ausente</td>\n",
       "      <td>...</td>\n",
       "      <td>ausente</td>\n",
       "      <td>ausente</td>\n",
       "      <td>positiva</td>\n",
       "      <td>segmentar</td>\n",
       "      <td>IgM C3</td>\n",
       "      <td>não realizada</td>\n",
       "      <td>apagamento dos processos podocitários</td>\n",
       "      <td>não realizado</td>\n",
       "      <td>síndrome nefrótica</td>\n",
       "      <td>Glomeruloesclerose segmentar e focal</td>\n",
       "    </tr>\n",
       "    <tr>\n",
       "      <th>3</th>\n",
       "      <td>normal</td>\n",
       "      <td>normal</td>\n",
       "      <td>espessada</td>\n",
       "      <td>normal</td>\n",
       "      <td>normal</td>\n",
       "      <td>normal</td>\n",
       "      <td>ausente</td>\n",
       "      <td>ausente</td>\n",
       "      <td>ausente</td>\n",
       "      <td>ausente</td>\n",
       "      <td>...</td>\n",
       "      <td>ausente</td>\n",
       "      <td>ausente</td>\n",
       "      <td>positiva</td>\n",
       "      <td>granular em alça capilar</td>\n",
       "      <td>IgG C3</td>\n",
       "      <td>IgG4 positivo e anti-fosfolipase A2 positiva</td>\n",
       "      <td>apagamento dos processos podocitários (pedicel...</td>\n",
       "      <td>não realizado</td>\n",
       "      <td>síndrome nefrótica</td>\n",
       "      <td>Glomerulopatia membranosa primária</td>\n",
       "    </tr>\n",
       "    <tr>\n",
       "      <th>4</th>\n",
       "      <td>aumento discreto</td>\n",
       "      <td>normal</td>\n",
       "      <td>duplicação</td>\n",
       "      <td>adesão</td>\n",
       "      <td>normal</td>\n",
       "      <td>normal</td>\n",
       "      <td>ausente</td>\n",
       "      <td>ausente</td>\n",
       "      <td>ausente</td>\n",
       "      <td>ausente</td>\n",
       "      <td>...</td>\n",
       "      <td>ausente</td>\n",
       "      <td>ausente</td>\n",
       "      <td>positiva</td>\n",
       "      <td>granular em alça capilar</td>\n",
       "      <td>IgG C3</td>\n",
       "      <td>IgG4 positivo e anti-fosfolipase A2 positiva</td>\n",
       "      <td>apagamento dos processos podocitários (pedicel...</td>\n",
       "      <td>não realizado</td>\n",
       "      <td>síndrome nefrótica</td>\n",
       "      <td>Glomerulopatia membranosa primária</td>\n",
       "    </tr>\n",
       "    <tr>\n",
       "      <th>...</th>\n",
       "      <td>...</td>\n",
       "      <td>...</td>\n",
       "      <td>...</td>\n",
       "      <td>...</td>\n",
       "      <td>...</td>\n",
       "      <td>...</td>\n",
       "      <td>...</td>\n",
       "      <td>...</td>\n",
       "      <td>...</td>\n",
       "      <td>...</td>\n",
       "      <td>...</td>\n",
       "      <td>...</td>\n",
       "      <td>...</td>\n",
       "      <td>...</td>\n",
       "      <td>...</td>\n",
       "      <td>...</td>\n",
       "      <td>...</td>\n",
       "      <td>...</td>\n",
       "      <td>...</td>\n",
       "      <td>...</td>\n",
       "      <td>...</td>\n",
       "    </tr>\n",
       "    <tr>\n",
       "      <th>95</th>\n",
       "      <td>aumentada</td>\n",
       "      <td>aumentada</td>\n",
       "      <td>espículas</td>\n",
       "      <td>normal</td>\n",
       "      <td>normal</td>\n",
       "      <td>normal</td>\n",
       "      <td>ausente</td>\n",
       "      <td>ausente</td>\n",
       "      <td>ausente</td>\n",
       "      <td>ausente</td>\n",
       "      <td>...</td>\n",
       "      <td>ausente</td>\n",
       "      <td>ausente</td>\n",
       "      <td>positiva</td>\n",
       "      <td>granular em mesângio e em alça capilar</td>\n",
       "      <td>IgG Kappa lambda fibrinogênio</td>\n",
       "      <td>IgG4 positivo e anti-fosfolipase A2 negativa</td>\n",
       "      <td>não realizada</td>\n",
       "      <td>não realizado</td>\n",
       "      <td>proteinúria</td>\n",
       "      <td>Glomerulopatia membranosa secundária</td>\n",
       "    </tr>\n",
       "    <tr>\n",
       "      <th>96</th>\n",
       "      <td>aspecto nodular</td>\n",
       "      <td>aumentada</td>\n",
       "      <td>normal</td>\n",
       "      <td>adesão</td>\n",
       "      <td>normal</td>\n",
       "      <td>normal</td>\n",
       "      <td>ausente</td>\n",
       "      <td>ausente</td>\n",
       "      <td>ausente</td>\n",
       "      <td>ausente</td>\n",
       "      <td>...</td>\n",
       "      <td>presente</td>\n",
       "      <td>ausente</td>\n",
       "      <td>positiva</td>\n",
       "      <td>granular em mesângio</td>\n",
       "      <td>IgG Kappa lambda fibrinogênio</td>\n",
       "      <td>não realizada</td>\n",
       "      <td>não realizada</td>\n",
       "      <td>negativo</td>\n",
       "      <td>diabético e síndrome nefrótica</td>\n",
       "      <td>Nefropatia diabética</td>\n",
       "    </tr>\n",
       "    <tr>\n",
       "      <th>97</th>\n",
       "      <td>aumentada</td>\n",
       "      <td>aumentada</td>\n",
       "      <td>normal</td>\n",
       "      <td>adesão</td>\n",
       "      <td>esclerose segmentar</td>\n",
       "      <td>hipertrofia</td>\n",
       "      <td>ausente</td>\n",
       "      <td>ausente</td>\n",
       "      <td>ausente</td>\n",
       "      <td>ausente</td>\n",
       "      <td>...</td>\n",
       "      <td>ausente</td>\n",
       "      <td>ausente</td>\n",
       "      <td>negativa</td>\n",
       "      <td>negativa</td>\n",
       "      <td>negativa</td>\n",
       "      <td>não realizada</td>\n",
       "      <td>não realizada</td>\n",
       "      <td>não realizado</td>\n",
       "      <td>síndrome nefrótica</td>\n",
       "      <td>Glomeruloesclerose segmentar e focal variante ...</td>\n",
       "    </tr>\n",
       "    <tr>\n",
       "      <th>98</th>\n",
       "      <td>aumentada</td>\n",
       "      <td>aumentada</td>\n",
       "      <td>normal</td>\n",
       "      <td>normal</td>\n",
       "      <td>esclerose segmentar</td>\n",
       "      <td>normal</td>\n",
       "      <td>ausente</td>\n",
       "      <td>ausente</td>\n",
       "      <td>ausente</td>\n",
       "      <td>presente</td>\n",
       "      <td>...</td>\n",
       "      <td>ausente</td>\n",
       "      <td>ausente</td>\n",
       "      <td>positiva</td>\n",
       "      <td>granular em mesângio</td>\n",
       "      <td>IgM</td>\n",
       "      <td>não realizada</td>\n",
       "      <td>não realizada</td>\n",
       "      <td>não realizado</td>\n",
       "      <td>síndrome nefrótica</td>\n",
       "      <td>Glomeruloesclerose segmentar e focal</td>\n",
       "    </tr>\n",
       "    <tr>\n",
       "      <th>99</th>\n",
       "      <td>aumentada</td>\n",
       "      <td>aumentada</td>\n",
       "      <td>normal</td>\n",
       "      <td>adesão</td>\n",
       "      <td>esclerose segmentar</td>\n",
       "      <td>hipertrofia</td>\n",
       "      <td>ausente</td>\n",
       "      <td>ausente</td>\n",
       "      <td>ausente</td>\n",
       "      <td>ausente</td>\n",
       "      <td>...</td>\n",
       "      <td>ausente</td>\n",
       "      <td>ausente</td>\n",
       "      <td>positiva</td>\n",
       "      <td>granular em mesângio</td>\n",
       "      <td>IgG C1q Fibrinogênio</td>\n",
       "      <td>não realizada</td>\n",
       "      <td>não realizada</td>\n",
       "      <td>não realizado</td>\n",
       "      <td>síndrome nefrótica</td>\n",
       "      <td>Glomeruloesclerose segmentar e focal variante ...</td>\n",
       "    </tr>\n",
       "  </tbody>\n",
       "</table>\n",
       "<p>100 rows × 31 columns</p>\n",
       "</div>"
      ],
      "text/plain": [
       "    Matriz mesangial Celularidade mesangial Membrana basal glomerular  \\\n",
       "0             normal                 normal                    normal   \n",
       "1             normal                 normal                    normal   \n",
       "2          aumentada                 normal                    normal   \n",
       "3             normal                 normal                 espessada   \n",
       "4   aumento discreto                 normal                duplicação   \n",
       "..               ...                    ...                       ...   \n",
       "95         aumentada              aumentada                 espículas   \n",
       "96   aspecto nodular              aumentada                    normal   \n",
       "97         aumentada              aumentada                    normal   \n",
       "98         aumentada              aumentada                    normal   \n",
       "99         aumentada              aumentada                    normal   \n",
       "\n",
       "   Espaço de Bowman      Tufo glomerular     Podócito Necrose tubular aguda  \\\n",
       "0            normal               normal       normal               ausente   \n",
       "1            normal               normal       normal               ausente   \n",
       "2            adesão  esclerose segmentar  hipertrofia               ausente   \n",
       "3            normal               normal       normal               ausente   \n",
       "4            adesão               normal       normal               ausente   \n",
       "..              ...                  ...          ...                   ...   \n",
       "95           normal               normal       normal               ausente   \n",
       "96           adesão               normal       normal               ausente   \n",
       "97           adesão  esclerose segmentar  hipertrofia               ausente   \n",
       "98           normal  esclerose segmentar       normal               ausente   \n",
       "99           adesão  esclerose segmentar  hipertrofia               ausente   \n",
       "\n",
       "   Vacuolização do epitélio Cristais Calcificação  ... Hialinose  \\\n",
       "0                   ausente  ausente      ausente  ...   ausente   \n",
       "1                   ausente  ausente      ausente  ...   ausente   \n",
       "2                   ausente  ausente      ausente  ...   ausente   \n",
       "3                   ausente  ausente      ausente  ...   ausente   \n",
       "4                   ausente  ausente      ausente  ...   ausente   \n",
       "..                      ...      ...          ...  ...       ...   \n",
       "95                  ausente  ausente      ausente  ...   ausente   \n",
       "96                  ausente  ausente      ausente  ...  presente   \n",
       "97                  ausente  ausente      ausente  ...   ausente   \n",
       "98                  ausente  ausente     presente  ...   ausente   \n",
       "99                  ausente  ausente      ausente  ...   ausente   \n",
       "\n",
       "   Necrose Fibrinóide IMUNOFLUORESCÊNCIA  \\\n",
       "0             ausente           negativa   \n",
       "1             ausente           negativa   \n",
       "2             ausente           positiva   \n",
       "3             ausente           positiva   \n",
       "4             ausente           positiva   \n",
       "..                ...                ...   \n",
       "95            ausente           positiva   \n",
       "96            ausente           positiva   \n",
       "97            ausente           negativa   \n",
       "98            ausente           positiva   \n",
       "99            ausente           positiva   \n",
       "\n",
       "                       padrão de deposição                 Imunodepósitos  \\\n",
       "0                                 negativa                       negativa   \n",
       "1                                 negativa                       negativa   \n",
       "2                                segmentar                         IgM C3   \n",
       "3                 granular em alça capilar                         IgG C3   \n",
       "4                 granular em alça capilar                         IgG C3   \n",
       "..                                     ...                            ...   \n",
       "95  granular em mesângio e em alça capilar  IgG Kappa lambda fibrinogênio   \n",
       "96                    granular em mesângio  IgG Kappa lambda fibrinogênio   \n",
       "97                                negativa                       negativa   \n",
       "98                    granular em mesângio                            IgM   \n",
       "99                    granular em mesângio           IgG C1q Fibrinogênio   \n",
       "\n",
       "                               Imunohistoquímica  \\\n",
       "0                                  não realizada   \n",
       "1                                  não realizada   \n",
       "2                                  não realizada   \n",
       "3   IgG4 positivo e anti-fosfolipase A2 positiva   \n",
       "4   IgG4 positivo e anti-fosfolipase A2 positiva   \n",
       "..                                           ...   \n",
       "95  IgG4 positivo e anti-fosfolipase A2 negativa   \n",
       "96                                 não realizada   \n",
       "97                                 não realizada   \n",
       "98                                 não realizada   \n",
       "99                                 não realizada   \n",
       "\n",
       "                               Microscopia eletrônica vermelho congo  \\\n",
       "0   apagamento dos processos podocitários (pedicelos)  não realizado   \n",
       "1                                              normal  não realizado   \n",
       "2               apagamento dos processos podocitários  não realizado   \n",
       "3   apagamento dos processos podocitários (pedicel...  não realizado   \n",
       "4   apagamento dos processos podocitários (pedicel...  não realizado   \n",
       "..                                                ...            ...   \n",
       "95                                      não realizada  não realizado   \n",
       "96                                      não realizada       negativo   \n",
       "97                                      não realizada  não realizado   \n",
       "98                                      não realizada  não realizado   \n",
       "99                                      não realizada  não realizado   \n",
       "\n",
       "                           Clínica  \\\n",
       "0               síndrome nefrótica   \n",
       "1                        hematúria   \n",
       "2               síndrome nefrótica   \n",
       "3               síndrome nefrótica   \n",
       "4               síndrome nefrótica   \n",
       "..                             ...   \n",
       "95                     proteinúria   \n",
       "96  diabético e síndrome nefrótica   \n",
       "97              síndrome nefrótica   \n",
       "98              síndrome nefrótica   \n",
       "99              síndrome nefrótica   \n",
       "\n",
       "                                          Diagnóstico  \n",
       "0                            Doença de Lesões mínimas  \n",
       "1                                          Rim normal  \n",
       "2                Glomeruloesclerose segmentar e focal  \n",
       "3                  Glomerulopatia membranosa primária  \n",
       "4                  Glomerulopatia membranosa primária  \n",
       "..                                                ...  \n",
       "95               Glomerulopatia membranosa secundária  \n",
       "96                               Nefropatia diabética  \n",
       "97  Glomeruloesclerose segmentar e focal variante ...  \n",
       "98               Glomeruloesclerose segmentar e focal  \n",
       "99  Glomeruloesclerose segmentar e focal variante ...  \n",
       "\n",
       "[100 rows x 31 columns]"
      ]
     },
     "execution_count": 24,
     "metadata": {},
     "output_type": "execute_result"
    }
   ],
   "source": [
    "df"
   ]
  },
  {
   "cell_type": "code",
   "execution_count": 29,
   "id": "c7d405d5",
   "metadata": {},
   "outputs": [],
   "source": [
    "# for coluna in df.columns:\n",
    "#     quantidade_valores_unicos = df[coluna].nunique()\n",
    "#     print(f\"Coluna '{coluna}' tem {quantidade_valores_unicos} valores únicos.\")"
   ]
  },
  {
   "cell_type": "code",
   "execution_count": 30,
   "id": "fa1a5532",
   "metadata": {},
   "outputs": [],
   "source": [
    "# coluns = {\n",
    "#     'Matriz mesangial' : 'matriz_mesangial',\n",
    "#     'Celularidade mesangial' : 'celularidade_mesangial',\n",
    "#     'Membrana basal glomerular' : 'membrana_basal_glomerular',\n",
    "#     'Espaço de Bowman' : 'espaco_de_bowman',\n",
    "#     'Tufo glomerular': 'tufo_glomerular',\n",
    "#     'Podócito' : 'podocito',\n",
    "#     'Necrose tubular aguda' : 'necrose_tubular_aguda',\n",
    "#     'Vacuolização do epitélio' : 'vacuolizacao_do_epitelio',\n",
    "#     'Cristais' : 'cristais',\n",
    "#     'Calcificação' : 'calcificacao',\n",
    "#     'Tubulite' : 'tubulite',\n",
    "#     'Cilindros' : 'cilindros',\n",
    "#     'Atrofia tubular' : 'atrofia_tubular',\n",
    "#     'Graduação de atrofia' : 'graduacao_de_atrofia', \n",
    "#     'Fibrose intersitical' : 'fribrose_intersticial',\n",
    "#     'Graduação da fibrose' : 'graduacao_da_fibrose',\n",
    "#     'Infiltrado inflamatório' : 'infiltrado_inflamatorio', \n",
    "#     'tipo de infiltrado inflamatório' : 'tipo_de_infiltrado_inflamatorio',\n",
    "#     'Vasculite' : 'vasculite',\n",
    "#     'Microangiopatia trombótica' : 'microangiopatia_trombotica',\n",
    "#     'Trombos' : 'trombos',\n",
    "#     'Hialinose' : 'hialinose',\n",
    "#     'Necrose Fibrinóide' : 'necrose_fibrinoide',\n",
    "#     'IMUNOFLUORESCÊNCIA' : 'imunofluorescencia', \n",
    "#     'padrão de deposição' : 'padrao_de_deposicao',\n",
    "#     'Imunodepósitos' : 'imunodepositos', \n",
    "#     'Imunohistoquímica' : 'imunohistoquimica',\n",
    "#     'Microscopia eletrônica' : 'microscopia_eletronica',\n",
    "#     'vermelho congo' : 'vermelho_congo',\n",
    "#     'Clínica' : 'clinica',\n",
    "#     'Diagnóstico' : 'diagnostico'\n",
    "# }"
   ]
  },
  {
   "cell_type": "code",
   "execution_count": 31,
   "id": "90ea78e6",
   "metadata": {},
   "outputs": [],
   "source": [
    "#df.drop([\"Unnamed: 0\"], axis=1, inplace=True)"
   ]
  },
  {
   "cell_type": "code",
   "execution_count": 32,
   "id": "ac97a239",
   "metadata": {},
   "outputs": [],
   "source": [
    "#df.to_csv('base_dados/base100.csv', index=False)"
   ]
  },
  {
   "cell_type": "code",
   "execution_count": 33,
   "id": "4e4be60e",
   "metadata": {},
   "outputs": [],
   "source": [
    "#data = pd.read_csv('base_dados/base100.csv')"
   ]
  },
  {
   "cell_type": "code",
   "execution_count": 34,
   "id": "17de6358",
   "metadata": {},
   "outputs": [],
   "source": [
    "# matriz_mesangial = {'normal': 'normal_MM', 'aumentada': 'aumentada_MM', 'aumento discreto':'aumento_discreto_MM', 'aspecto nodular':'aspecto_nodular_MM', 'mesangiólise':'mesangiolise_MM'}\n",
    "# celularidade_mesangial = {'normal':'normal_CM', 'aumentada': 'aumentada_CM' , 'diminuída':'diminuida_CM'}\n",
    "# membrana_basal_glomerular = {'normal' : 'normal_MBG' , 'espessada': 'espessada_MBG', 'duplicação': 'duplicacao_MBG', 'espículas': 'espiculas_MBG', 'ruptura':'ruptura_MBG','duplicação e espículas':'duplicacao_e_espiculas_MBG','ruptura espículas e duplicação': 'ruptura_espiculas_e_duplicacao_MBG', 'ruptura buracos e duplicação':'ruptura_buracos_e_duplicacao_MBG', 'ruptura e duplicação':'ruptura_e_duplicacao_MBG', 'espessamento duplicação espículas': 'espessamento_duplicacao_espiculas_MBG', 'duplicação, espículas e ruptura':'duplicacao_espiculas_e_ruptura_MBG', 'espessamento':'espessamento_MBG', 'duplicação espículas e ruptura' : 'duplicacao_espiculas_e_ruptura_MBG'}\n",
    "# espaco_de_bowman = {'normal':'normal_EB', 'adesão': 'adesao_EB', 'crescentes':'crescentes_EB', 'adesão e crescentes':'adesao_e_crescentes_EB', 'crescentes em mais de 50%':'crescentes_em_mais_de_50_EB','capsular drops':'capsular_drops_EB', 'crescentes_em_mais_de_50' : 'crescentes_em_mais_de_50_EB'}\n",
    "# tufo_glomerular = {'normal':'normal_TG', 'esclerose segmentar':'esclerose_segmentar_TG','hipercelularidade endocapilar':'hipercelularidade_endocapilar_TG','infiltração por neutrófilos':'infiltracao_por_neutrofilos_TG', 'esclerose global':'esclerose_global_TG','hipercelularidade endocapilar e esclerose segmentar':'hipercelularidade_endocapilar_e_esclerose_segmentar_TG', 'esclerose segmentar e global':'esclerose_segmentar_e_global_TG', 'hipercelularidade endocapilar esclerose segmentar e wire loop':'hipercelularidade_endocapilar_esclerose_segmentar_e_wire_loop_TG', 'hipercelularidade endocapilar e wire loop':'hipercelularidade_endocapilar_e_wire_loop_TG','hipercelularidade endocapilar em mais de 50%':'hipercelularidade_endocapilar_em_mais_de_50_TG','congesto':'congesto_TG'}\n",
    "# podocito = {'normal':'normal_PDC','hipertrofia':'hipertrofia_PDC','vacuolização':'vacuolizacao_PDC'}\n",
    "# necrose_tubular_aguda = {'ausente':'ausente_NTA'}\n",
    "# vacuolizacao_do_epitelio = {'ausente':'ausente_VDE','presente':'presente_VDE'}\n",
    "# cristais =  {'ausente':'ausente_CRIS'}\n",
    "# calcificacao = {'ausente':'ausente_CALC','presente':'presente_CALC'}\n",
    "# tubulite = {'ausente':'ausente_CALC' , 'presente':'presente_CALC'}\n",
    "# cilindros ={'ausente':'ausente_CILI', 'hialinos':'hialinos_CILI'}\n",
    "# atrofia_tubular = {'ausente':'ausente_ATROFIA', 'presente':'presente_ATROFIA'}\n",
    "# graduacao_de_atrofia = {'ausente':'ausente_GDA' , 'discreta':'discreta_GDA', 'moderada':'moderada_GDA', 'acentuada':'acentuada_GDA'}\n",
    "# fribrose_intersticial = {'ausente':'ausente_FI', 'presente':'presente_FI'}\n",
    "# graduacao_da_fibrose = {'ausente':'ausente_GDF' , 'discreta':'discreta_GDF', 'moderada':'moderada_GDF', 'acentuada':'acentuada_GDF'}\n",
    "# infiltrado_inflamatorio = {'ausente':'ausente_II', 'presente':'presente_II'}\n",
    "# tipo_de_infiltrado_inflamatorio = {'ausente':'ausente_TII', 'mononuclear':'mononuclear_TII', 'misto':'misto_TII'}\n",
    "# vasculite = {'ausente':'ausente_VASCULITE'}\n",
    "# microangiopatia_trombotica = {'ausente':'ausente_MT','presente':'presente_MT'}\n",
    "# trombos = {'ausente':'ausente_TROMBOS'}\n",
    "# hialinose = {'ausente': 'ausente_HIALI', 'presente':'presente_HIALI', 'presente em arteríolas':'presente_em_arteriolas', 'presente em arteríolas aferentes e eferentes':'presente_em_arteriolas_aferentes_e_eferentes', \"presente_em_arteriolas_aferentes_e_eferentes\" : 'presente_em_arteriolas_aferentes_e_eferentes_HIALI', \"presente_em_arteriolas\" : \"presente_em_arteriolas_HIALI\"}\n",
    "# necrose_fibrinoide = {'ausente': 'ausente_NF', 'presente':'presente_NF'}\n",
    "# imunofluorescencia = {'negativa': 'negativa_IMUNOFLU', 'positiva':'positiva_IMUNOFLU', 'não realizada':'nao_realizada__IMUNOFLU'}\n",
    "# padrao_de_deposicao = {\"negativa\" :'negativa_PD', 'segmentar':'segmentar_PD','granular em alça capilar':'granular_em_alca_capilar_PD','granular em mesângio':'granular_em_mesangio_PD','granular em mesângio e em alça capilar':'granular_em_mesangio_e_em_alca_capilar_PD', 'granular grosseiro (tipo céu estrelado)':'granular_grosseiro_tipo_ceu_estrelado_PD', 'linear':'linear_PD', 'não realizada':'nao_realizada_PD', 'granular em mesângio e linear em membrana basal':'granular_em_mesangio_e_linear_em_membrana_basal_PD', 'aprisionado no crescente':'aprisionado_no_crescente_PD'}\n",
    "# imunodepositos = {'negativa': 'negativa_IMUDEPO', 'IgM C3': 'IgM_C3_IMUDEPO', 'IgG C3': 'IgG_C3_IMUDEPO', 'full house': 'Full_house_IMUDEPO', 'IgA (co-dominante)': 'IgA_co_dominante_IMUDEPO', 'IgM IgG C3': 'IgM_IgG_C3_IMUDEPO', 'C3': 'C3_IMUDEPO', 'IgG': 'IgG_IMUDEPO', 'IgA IgM C3 C1q lambda': 'IgA_IgM_C3_C1q_lambda_IMUDEPO', 'IgG C1q Fibrinogênio': 'IgG_C1q_Fibrinogenio_IMUDEPO', 'IgA (co-dominante) C3 Kappa lambda fibrinogênio': 'IgA_co_dominante_C3_Kappa_lambda_fibrinogênio_IMUDEPO', 'IgM C1q C3 Lambda': 'IgM_C1q_C3_Lambda_IMUDEPO', 'IgA IgM IgG C3 C1q': 'IgA_IgM_IgG_C3_C1q_IMUDEPO', 'IgM IgA C3 C1q Fibrinogênio kappa lambda': 'IgM_IgA_C3_C1q_Fibrinogênio_kappa_lambda_IMUDEPO', 'IgA (co-dominante) Kappa lambda': 'IgA_co_dominante_Kappa_lambda_IMUDEPO', 'não realizada': 'nao_realizada_IMUDEPO', 'IgA (co-dominante) IgG kappa lambda': 'IgA_co_dominante_IgG_kappa_lambda_IMUDEPO', 'IgA C1q fibrinogênio': 'IgA_C1q_fibrinogenio_IMUDEPO', 'IgA IgM IgG C1q': 'IgA_IgM_IgG_C1q_IMUDEPO', 'IgG IgA IgM C3 Fibrinogênio kappa lambda': 'IgG_IgA_IgM_C3_Fibrinogenio_kappa_lambda_IMUDEPO', 'IgM': 'IgM_IMUDEPO', 'IgM C3 fibrinogênio': 'IgM_C3_fibrinogenio_IMUDEPO', 'IgM C3 C1q lambda fibrinogênio': 'IgM_C3_C1q_lambda_fibrinogenio_IMUDEPO', 'IgM IgA IgG C3 fibrinogênio': 'IgM_IgA_IgG_C3_fibrinogenio_IMUDEPO', 'IgG IgA IgM C3 fibrinogênio kappa lambda': 'IgG_IgA_IgM_C3_fibrinogenio_kappa_lambda_IMUDEPO', 'IgM Lambda fibrinogênio': 'IgM_Lambda_fibrinogenio_IMUDEPO', 'IgM C3 C1q': 'IgM_C3_C1q_IMUDEPO', 'IgM IgG IgA C3 c1q': 'IgM_IgG_IgA_C3_c1q_IMUDEPO', 'IgM IgG fibrinogênio': 'IgM_IgG_fibrinogenio_IMUDEPO', 'IgM IgG IgA Lambda Fibrinogênio': 'IgM_IgG_IgA_Lambda_Fibrinogenio_IMUDEPO', 'lambda': 'lambda_IMUDEPO', 'IgM IgG IgA C3 Kappa Lambda fibrinogênio': 'igM_IgG_IgA_C3_Kappa_Lambda_fibrinogenio_IMUDEPO', 'IgM IgG IgA C3 Lambda': 'igM_IgG_IgA_C3_Lambda_IMUDEPO', 'Kappa lambda': 'kappa_lambda_IMUDEPO', 'IgM IgG Kappa Lambda Fibrinogênio': 'igM_IgG_Kappa_Lambda_Fibrinogenio_IMUDEPO', 'IgG Fibrinogênio': 'igG_Fibrinogenio_IMUDEPO', 'IgM IgG C3 Lambda Fibrinogênio': 'igM_IgG_C3_Lambda_Fibrinogenio_IMUDEPO', 'Kappa Fibrinogênio': 'kappa_Fibrinogenio_IMUDEPO', 'IgM IgG C1q kappa lambda fibrinogênio': 'igM_IgG_C1q_kappa_lambda_fibrinogenio_IMUDEPO', 'IgG Kappa lambda fibrinogênio': 'igG_Kappa_lambda_fibrinogenio_IMUDEPO'}\n",
    "# imunohistoquimica = {'não realizada': 'nao_realizada_IMUHIS', 'IgG4 positivo e anti-fosfolipase A2 positiva': 'IgG4_positivo_e_anti_fosfolipase_A2_positiva_IMUHIS', 'IgG4 positivo e anti-fosfolipase A2 negativa': 'IgG4_positivo_e_anti_fosfolipase_A2_negativa_IMUHIS', 'positivo para fibronectina': 'positivo_para_fibronectina_IMUHIS'}\n",
    "# microscopia_eletronica = {'apagamento dos processos podocitários (pedicelos)': 'apagamento_dos_processos_podocitarios_pedicelos_MIELE', 'normal': 'normal_MIELE', 'apagamento dos processos podocitários': 'apagamento_dos_processos_podocitarios_MIELE', 'apagamento dos processos podocitários (pedicelos) e depósitos elétron-densos subepiteliais': 'apagamento_dos_processos_podocitarios_pedicelos_e_depesitos_eletron_densos_subepiteliais_MIELE', 'membrana basal glomerular fina': 'membrana_basal_glomerular_fina_MIELE', 'depósitos elétron-densos em região paramesangial e mesangial': 'depositos_eletron_densos_em_regiao_paramesangial_e_mesangial_MIELE', 'depósitos elétron-densos subendoteliais': 'depositos_eletron_densos_subendoteliais_MIELE', 'grandes depósitos elétron-densos na lâmina densa da membrana basal glomerular': 'grandes_depositos_eletron_densos_na_lamina_densa_da_membrana_basal_glomerular_MIELE', 'depósitos elétron-densos subepiteliais e subendoteliais': 'depositos_eletron_densos_subepiteliais_e_subendoteliais_MIELE', 'depósitos elétron-densos largos (humps) apagamento de processo podocitários': 'depositos_eletron_densos_largos_humps_apagamento_de_processo_podocitarios_MIELE', 'apagamento de processo podocitário espessamento da membrana basal glomerular': 'apagamento_de_processo_podocitario_espessamento_da_membrana_basal_glomerular_MIELE', 'irregularidade da membrana basal glomerular e discreta expansão mesangial': 'irregularidade_da_membrana_basal_glomerular_e_discreta_expansao_mesangial_MIELE', 'não realizada': 'nao_realizada_MIELE', 'material eletrodenso lamelado em podócitos': 'material_eletrodenso_lamelado_em_podocitos_MIELE', 'alargamento de pedicelos ou aproximação deles mas alguns preservados': 'alargamento_de_pedicelos_ou_aproximacao_deles_mas_alguns_preservados_MIELE', 'material eletrondenso lamelado no citoplasma de podócitos': 'material_eletrondenso_lamelado_no_citoplasma_de_podocitos_MIELE', 'Compatível com padrão membranoproliferativo': 'compativel_com_padrao_membranoproliferativo_MIELE'}\n",
    "# vermelho_congo = {'não realizado': 'nao_realizado_VERMECO', 'positivo': 'positivo_VERMECO', 'negativo': 'negativo_VERMECO'}\n",
    "# clinica = {'síndrome nefrótica': 'sindrome_nefrotica_CLINICA', 'hematúria': 'hematuria_CLINICA', 'síndrome nefrítica': 'sindrome_nefritica_CLINICA', 'síndrome nefrítico-nefrótica': 'sindrome_nefritico_nefrotica_CLINICA', 'Insuficiência renal aguda': 'Insuficiencia_renal_aguda_CLINICA', 'diabetes e proteinúria': 'diabetes_e_proteinuria_CLINICA', 'hipertensão e proteinúria': 'hipertensao_e_proteinuria_CLINICA', 'lúpus': 'lupus_CLINICA', 'proteinúria hematúria e insuficiência renal crônica': 'proteinuria_hematuria_e_insuficiencia_renal_cronica_CLINICA', 'síndrome nefrótica córtico-resistente': 'sindrome_nefrotica_cortico_resistente_CLINICA', 'síndrome nefrótica córtico-dependente': 'sindrome_nefrotica_cortico_dependente_CLINICA', 'proteinúria': 'proteinuria_CLINICA', 'edema persistente associado a hematúria e hipertensão': 'edema_persistente_associado_a_hematuria_e_hipertensao_CLINICA', 'edema oligúria escarros hemoptóicos e hematúria': 'edema_oliguria_escarros_hemoptoicos_e_hematuria_CLINICA', 'lúpus anasarca e proteinúria': 'lupus_anasarca_e_proteinuria_CLINICA', 'anasarca e dispnéia': 'anasarca_e_dispneia_CLINICA', 'proteinúria hematúria': 'proteinuria_hematuria_CLINICA', 'lúpus insuficiência renal algua': 'lupus_insuficiencia_renal_algua_CLINICA', 'lúpus hematúria e oligúria': 'lupus_hematuria_e_oliguria_CLINICA', 'hipertensão diabetes e piora de função renal': 'hipertensao_diabetes_e_piora_de_funcao_renal_CLINICA', 'síndrome nefrítica-nefrótica': 'sindrome_nefritica_nefrotica_CLINICA', 'edema e proteinúria': 'edema_e_proteinuria_CLINICA', 'hipocalemia e elevação de escórias': 'hipocalemia_e_elevacao_de_escorias_CLINICA', 'proteinúria nefrótica': 'proteinuria_nefrotica_CLINICA', 'doença de fabry': 'doenca_de_fabry_CLINICA', 'edema': 'edema_CLINICA', 'hematúria proteinúria': 'hematuria_proteinuria_CLINICA', 'hipertensão e diabetes': 'hipertensao_e_diabetes_CLINICA', 'proteinúria hematúria e alteração cardíaca': 'proteinuria_hematuria_e_alteracao_cardiaca_CLINICA', 'eclâmpsia e choque hipovolêmico': 'eclâmpsia_e_choque_hipovolemico_CLINICA', 'proteinúria e hematúria': 'proteinuria_e_hematuria_CLINICA', 'proteinúria hematúria consumo de complemento': 'proteinuria_hematuria_consumo_de_complemento_CLINICA', 'diabético e síndrome nefrótica': 'diabetico_e_sindrome_nefrotica_CLINICA'}\n",
    "# diagnostico = {'Doença de Lesões mínimas': 'Doenca_de_Lesoes_minimas_DIAGNOS', 'Rim normal': 'Rim_normal_DIAGNOS', 'Glomeruloesclerose segmentar e focal': 'Glomeruloesclerose_segmentar_e_focal_DIAGNOS', 'Glomerulopatia membranosa primária': 'Glomerulopatia_membranosa_primaria_DIAGNOS', 'Glomerulopatia membranosa secundária': 'Glomerulopatia_membranosa_secundaria_DIAGNOS', 'Doença da membrana fina': 'Doenca_da_membrana_fina_DIAGNOS', 'Nefropatia por IgA': 'Nefropatia_por_IgA_DIAGNOS', 'Glomerulonefrite membranoproliferativa tipo I': 'Glomerulonefrite_membranoproliferativa_tipo_I_DIAGNOS', 'Glomerulonefrite membranoproliferativa tipo II(Doença de depósito denso)': 'Glomerulonefrite_membranoproliferativa_tipo_II_Doenca_de_deposito_denso_DIAGNOS', 'Glomerulonefrite membranoproliferativa tipo III': 'Glomerulonefrite_membranoproliferativa_tipo_III_DIAGNOS', 'Glomerulonefrite difusa aguda (GNDA)': 'Glomerulonefrite_difusa_aguda_GNDA_DIAGNOS', 'Nefropatia diabética': 'Nefropatia_diabetica_DIAGNOS', 'Nefroesclerose vascular hipertensiva': 'Nefroesclerose_vascular_hipertensiva_DIAGNOS', 'GLOMERULONEFRITE LÚPICA FOCAL E GLOBAL - CLASSE III': 'GLOMERULONEFRITE_LUPICA_FOCAL_E_GLOBAL_CLASSE_III_DIAGNOS', 'GLOMERULONEFRITE LÚPICA DIFUSA E SEGMENTAR CLASSE IV': 'GLOMERULONEFRITE_LUPICA_DIFUSA_E_SEGMENTAR_CLASSE_IV_DIAGNOS', 'GLOMERULONEFRITE LÚPICA FOCAL E SEGMENTAR - CLASSE III': 'GLOMERULONEFRITE_LUPICA_FOCAL_E_SEGMENTAR_CLASSE_III_DIAGNOS', 'Podocitopatias (Lesões Mínimas X Glomeruloesclerose Segmentar e Focal não amostrada)': 'Podocitopatias_Lesoes_Minimas_X_Glomeruloesclerose_Segmentar_e_Focal_nao_amostrada_DIAGNOS', 'GLOMERULONEFRITE LÚPICA MEMBRANOSA- CLASSE V': 'GLOMERULONEFRITE_LUPICA_MEMBRANOSA_CLASSE_V_DIAGNOS', 'Doença de Fabry': 'Doenca_de_Fabry_DIAGNOS', 'Podocitopatia: Glomeruloesclerose segmentar e Focal não amostrada': 'Podocitopatia_Glomeruloesclerose_segmentar_e_Focal_nao_amostrada_DIAGNOS', 'GLOMERULONEFRITE LÚPICA DIFUSA E GLOBAL - CLASSE IV': 'GLOMERULONEFRITE_LUPICA_DIFUSA_E_GLOBAL_CLASSE_IV_DIAGNOS', 'GLOMERULONEFRITE LÚPICA MESANGIAL PROLIFERATIVA – CLASSE II': 'GLOMERULONEFRITE_LUPICA_MESANGIAL_PROLIFERATIVA_–_CLASSE_II_DIAGNOS', 'GLOMERULONEFRITE LÚPICA SEGMENTAR E FOCAL – CLASSE III (A) E ASSOCIAÇÃO COM MEMBRANOSA (CLASSE V)': 'GLOMERULONEFRITE_LUPICA_SEGMENTAR_E_FOCAL_–_CLASSE_III_A_E_ASSOCIAcaO_COM_MEMBRANOSA_CLASSE_V_DIAGNOS', 'Nefropatia por IgA (doença de Berger)': 'Nefropatia_por_IgA_doenca_de_Berger_DIAGNOS', 'Glomerulonefrite crescêntica': 'Glomerulonefrite_crescentica_DIAGNOS', 'Glomerulonefrite membranoproliferativa': 'Glomerulonefrite_membranoproliferativa_DIAGNOS', 'GLOMERULONEFRITE LÚPICA SEGMENTAR E FOCAL – CLASSE III': 'GLOMERULONEFRITE_LUPICA_SEGMENTAR_E_FOCAL_–_CLASSE_III_DIAGNOS', 'Glomerulopatia membranosa': 'Glomerulopatia_membranosa_DIAGNOS', 'Glomeruloesclerose segmentar e focal variante colapsante': 'Glomeruloesclerose_segmentar_e_focal_variante_colapsante_DIAGNOS', 'Amiloidose': 'Amiloidose_DIAGNOS', 'GLOMERULONEFRITE LÚPICA SEGMENTAR E FOCAL - CLASSE III': 'GLOMERULONEFRITE_LUPICA_SEGMENTAR_E_FOCAL_CLASSE_III_DIAGNOS', 'Gloemrulonefrite crescêntica': 'Gloemrulonefrite_crescentica_DIAGNOS', 'Glomerulopatia por fibronectina': 'Glomerulopatia_por_fibronectina_DIAGNOS', 'Microangiopatia trombótica': 'Microangiopatia_trombotica_DIAGNOS', 'GLOMERULONEFRITE LÚPICA DIFUSA E SEGMENTAR ´CLASSE IV' : \"GLOMERULONEFRITE_LUPICA_DIFUSA_E_SEGMENTAR_CLASSE_IV_DIAGNOS\", \"GLOMERULONEFRITE_LUPICA_DIFUSA_E_SEGMENTAR_CLASSE_IV\":\"GLOMERULONEFRITE_LUPICA_DIFUSA_E_SEGMENTAR_CLASSE_IV_DIAGNOS\"}"
   ]
  },
  {
   "cell_type": "code",
   "execution_count": 35,
   "id": "8c0d528c",
   "metadata": {},
   "outputs": [],
   "source": [
    "#data = data.rename(columns=coluns)"
   ]
  },
  {
   "cell_type": "code",
   "execution_count": 36,
   "id": "12985366",
   "metadata": {},
   "outputs": [],
   "source": [
    "# data['matriz_mesangial'] = data['matriz_mesangial'].replace(matriz_mesangial)\n",
    "# data['celularidade_mesangial'] = data['celularidade_mesangial'].replace(celularidade_mesangial)\n",
    "# data['membrana_basal_glomerular'] = data['membrana_basal_glomerular'].replace(membrana_basal_glomerular)\n",
    "# data['espaco_de_bowman'] = data['espaco_de_bowman'].replace(espaco_de_bowman)\n",
    "# data['tufo_glomerular'] = data['tufo_glomerular'].replace(tufo_glomerular)\n",
    "# data['podocito'] = data['podocito'].replace(podocito)\n",
    "# data['necrose_tubular_aguda'] = data['necrose_tubular_aguda'].replace(necrose_tubular_aguda)\n",
    "# data['vacuolizacao_do_epitelio'] = data['vacuolizacao_do_epitelio'].replace(vacuolizacao_do_epitelio)\n",
    "# data['cristais'] = data['cristais'].replace(cristais)\n",
    "# data['calcificacao'] = data['calcificacao'].replace(calcificacao)\n",
    "# data['tubulite'] = data['tubulite'].replace(tubulite)\n",
    "# data['cilindros'] = data['cilindros'].replace(cilindros)\n",
    "# data['atrofia_tubular'] = data['atrofia_tubular'].replace(atrofia_tubular)\n",
    "# data['graduacao_de_atrofia'] = data['graduacao_de_atrofia'].replace(graduacao_de_atrofia)\n",
    "# data['fribrose_intersticial'] = data['fribrose_intersticial'].replace(fribrose_intersticial)\n",
    "# data['graduacao_da_fibrose'] = data['graduacao_da_fibrose'].replace(graduacao_da_fibrose)\n",
    "# data['infiltrado_inflamatorio'] = data['infiltrado_inflamatorio'].replace(infiltrado_inflamatorio)\n",
    "# data['tipo_de_infiltrado_inflamatorio'] = data['tipo_de_infiltrado_inflamatorio'].replace(tipo_de_infiltrado_inflamatorio)\n",
    "# data['vasculite'] = data['vasculite'].replace(vasculite)\n",
    "# data['microangiopatia_trombotica'] = data['microangiopatia_trombotica'].replace(microangiopatia_trombotica)\n",
    "# data['trombos'] = data['trombos'].replace(trombos)\n",
    "# data['hialinose'] = data['hialinose'].replace(hialinose)\n",
    "# data['necrose_fibrinoide'] = data['necrose_fibrinoide'].replace(necrose_fibrinoide)\n",
    "# data['imunofluorescencia'] = data['imunofluorescencia'].replace(imunofluorescencia)\n",
    "# data['padrao_de_deposicao'] = data['padrao_de_deposicao'].replace(padrao_de_deposicao)\n",
    "# data['imunodepositos'] = data['imunodepositos'].replace(imunodepositos)\n",
    "# data['imunohistoquimica'] = data['imunohistoquimica'].replace(imunohistoquimica)\n",
    "# data['microscopia_eletronica'] = data['microscopia_eletronica'].replace(microscopia_eletronica)\n",
    "# data['vermelho_congo'] = data['vermelho_congo'].replace(vermelho_congo)\n",
    "# data['clinica'] = data['clinica'].replace(clinica)\n",
    "# data['diagnostico'] = data['diagnostico'].replace(diagnostico)"
   ]
  },
  {
   "cell_type": "code",
   "execution_count": 37,
   "id": "5c302210",
   "metadata": {},
   "outputs": [],
   "source": [
    "# = data.columns\n",
    "#data.diagnostico.unique()"
   ]
  },
  {
   "cell_type": "code",
   "execution_count": 38,
   "id": "53942769",
   "metadata": {},
   "outputs": [],
   "source": [
    "# def convertMinuscula(dado):\n",
    "#     return dado.lower()"
   ]
  },
  {
   "cell_type": "code",
   "execution_count": 39,
   "id": "630d0ba0",
   "metadata": {},
   "outputs": [],
   "source": [
    "# data[columns[0]].apply(convertMinuscula)"
   ]
  },
  {
   "cell_type": "code",
   "execution_count": 40,
   "id": "d99f38f9",
   "metadata": {},
   "outputs": [],
   "source": [
    "# for col in columns:\n",
    "#     data[col] = data[col].apply(convertMinuscula)"
   ]
  },
  {
   "cell_type": "code",
   "execution_count": 41,
   "id": "a3bf6e57",
   "metadata": {},
   "outputs": [],
   "source": [
    "# data.to_csv('base_dados/base100.csv', encoding='utf-8', index=False)"
   ]
  },
  {
   "cell_type": "code",
   "execution_count": null,
   "id": "c30216c8",
   "metadata": {},
   "outputs": [],
   "source": []
  },
  {
   "cell_type": "code",
   "execution_count": 42,
   "id": "a63ad760",
   "metadata": {},
   "outputs": [],
   "source": [
    "# data[columns[0]].unique()"
   ]
  },
  {
   "cell_type": "markdown",
   "id": "fa6a3d95",
   "metadata": {},
   "source": [
    "# Balanciamento dos dados"
   ]
  },
  {
   "cell_type": "code",
   "execution_count": 43,
   "id": "369a97c2",
   "metadata": {},
   "outputs": [],
   "source": [
    "# from imblearn.over_sampling import SMOTEN"
   ]
  },
  {
   "cell_type": "code",
   "execution_count": 44,
   "id": "8476a29a",
   "metadata": {},
   "outputs": [],
   "source": [
    "# data = pd.read_csv('base_dados/base100.csv')"
   ]
  },
  {
   "cell_type": "code",
   "execution_count": 19,
   "id": "d49e6521",
   "metadata": {},
   "outputs": [],
   "source": [
    "# data"
   ]
  },
  {
   "cell_type": "code",
   "execution_count": 20,
   "id": "22526cd7",
   "metadata": {},
   "outputs": [],
   "source": [
    "# X[X.duplicated()]"
   ]
  },
  {
   "cell_type": "code",
   "execution_count": 21,
   "id": "81357b1a",
   "metadata": {},
   "outputs": [],
   "source": [
    "# duplicatas = data.duplicated()"
   ]
  },
  {
   "cell_type": "code",
   "execution_count": 22,
   "id": "b3723269",
   "metadata": {},
   "outputs": [],
   "source": [
    "# dupli = data[duplicatas]"
   ]
  },
  {
   "cell_type": "code",
   "execution_count": 23,
   "id": "4a5e7613",
   "metadata": {},
   "outputs": [],
   "source": [
    "# df_sem_duplicatas = data.drop_duplicates()"
   ]
  },
  {
   "cell_type": "code",
   "execution_count": 24,
   "id": "ddd04a50",
   "metadata": {},
   "outputs": [],
   "source": [
    "# lb = LabelEncoder()\n",
    "# df_sem_duplicatas = df_sem_duplicatas.apply(lb.fit_transform)"
   ]
  },
  {
   "cell_type": "code",
   "execution_count": null,
   "id": "49608cb3",
   "metadata": {},
   "outputs": [],
   "source": []
  },
  {
   "cell_type": "code",
   "execution_count": 25,
   "id": "ca67830d",
   "metadata": {},
   "outputs": [],
   "source": [
    "# y = df_sem_duplicatas['diagnostico']\n",
    "# X = df_sem_duplicatas.drop('diagnostico', axis = 1)"
   ]
  },
  {
   "cell_type": "code",
   "execution_count": 26,
   "id": "551deff3",
   "metadata": {},
   "outputs": [],
   "source": [
    "# smote = SMOTEN(random_state=42)\n",
    "# X_resampled, y_resampled = smote.fit_resample(X, y)"
   ]
  },
  {
   "cell_type": "code",
   "execution_count": null,
   "id": "4ca4a1ec",
   "metadata": {},
   "outputs": [],
   "source": []
  },
  {
   "cell_type": "markdown",
   "id": "32680a0c",
   "metadata": {},
   "source": [
    "# Testar algoritmos"
   ]
  },
  {
   "cell_type": "code",
   "execution_count": 27,
   "id": "fbbd4f2d",
   "metadata": {},
   "outputs": [],
   "source": [
    "from sklearn.model_selection import train_test_split\n",
    "from sklearn.preprocessing import LabelEncoder\n",
    "from sklearn.metrics import accuracy_score\n",
    "from sklearn.linear_model import LogisticRegression\n",
    "from sklearn.tree import DecisionTreeClassifier\n",
    "from sklearn.ensemble import RandomForestClassifier\n",
    "from sklearn.svm import SVC\n",
    "from sklearn.neural_network import MLPClassifier\n",
    "from sklearn.metrics import accuracy_score, precision_score, recall_score, f1_score, confusion_matrix"
   ]
  },
  {
   "cell_type": "code",
   "execution_count": 28,
   "id": "1164b58f",
   "metadata": {},
   "outputs": [],
   "source": [
    "data = pd.read_csv('base_dados/base100.csv')"
   ]
  },
  {
   "cell_type": "code",
   "execution_count": 29,
   "id": "661b9f13",
   "metadata": {},
   "outputs": [],
   "source": [
    "# Transformando os dados categóricos em numéricos\n",
    "lb = LabelEncoder()\n",
    "data = data.apply(lb.fit_transform)"
   ]
  },
  {
   "cell_type": "code",
   "execution_count": 30,
   "id": "81fe7917",
   "metadata": {},
   "outputs": [],
   "source": [
    "y = data['diagnostico']\n",
    "X = data.drop('diagnostico', axis = 1)"
   ]
  },
  {
   "cell_type": "code",
   "execution_count": 31,
   "id": "78561ca3",
   "metadata": {},
   "outputs": [],
   "source": [
    "def train_test(X, y):\n",
    "    return train_test_split(X, y, test_size=0.33, random_state=10)"
   ]
  },
  {
   "cell_type": "code",
   "execution_count": 32,
   "id": "64a99389",
   "metadata": {},
   "outputs": [],
   "source": [
    "X_train, X_test, y_train, y_test = train_test(X, y)"
   ]
  },
  {
   "cell_type": "code",
   "execution_count": null,
   "id": "08cf4938",
   "metadata": {},
   "outputs": [],
   "source": []
  },
  {
   "cell_type": "markdown",
   "id": "63d487d0",
   "metadata": {},
   "source": [
    "# Algoritmos para testes"
   ]
  },
  {
   "cell_type": "markdown",
   "id": "d6b8c073",
   "metadata": {},
   "source": [
    "## 1. Árvore de Decisão"
   ]
  },
  {
   "cell_type": "code",
   "execution_count": 33,
   "id": "6986d7a1",
   "metadata": {},
   "outputs": [],
   "source": [
    "# ID3\n",
    "def arvore_decisao(i):\n",
    "    # Criando o modelo de Árvore de Decisão\n",
    "    clf = DecisionTreeClassifier(random_state=i, criterion='gini')\n",
    "\n",
    "    # Treinando o modelo\n",
    "    clf.fit(X_train, y_train)\n",
    "\n",
    "    # Realizando previsões no conjunto de teste\n",
    "    y_pred = clf.predict(X_test)\n",
    "\n",
    "    # Avaliando a precisão do modelo\n",
    "#     score = clf.score(X_test, y_test)\n",
    "#     print(f\"{i} - Precisão do modelo: {score*100}%\")\n",
    "    \n",
    "    return clf"
   ]
  },
  {
   "cell_type": "code",
   "execution_count": 34,
   "id": "8b4740c6",
   "metadata": {},
   "outputs": [
    {
     "data": {
      "text/html": [
       "<style>#sk-container-id-1 {color: black;background-color: white;}#sk-container-id-1 pre{padding: 0;}#sk-container-id-1 div.sk-toggleable {background-color: white;}#sk-container-id-1 label.sk-toggleable__label {cursor: pointer;display: block;width: 100%;margin-bottom: 0;padding: 0.3em;box-sizing: border-box;text-align: center;}#sk-container-id-1 label.sk-toggleable__label-arrow:before {content: \"▸\";float: left;margin-right: 0.25em;color: #696969;}#sk-container-id-1 label.sk-toggleable__label-arrow:hover:before {color: black;}#sk-container-id-1 div.sk-estimator:hover label.sk-toggleable__label-arrow:before {color: black;}#sk-container-id-1 div.sk-toggleable__content {max-height: 0;max-width: 0;overflow: hidden;text-align: left;background-color: #f0f8ff;}#sk-container-id-1 div.sk-toggleable__content pre {margin: 0.2em;color: black;border-radius: 0.25em;background-color: #f0f8ff;}#sk-container-id-1 input.sk-toggleable__control:checked~div.sk-toggleable__content {max-height: 200px;max-width: 100%;overflow: auto;}#sk-container-id-1 input.sk-toggleable__control:checked~label.sk-toggleable__label-arrow:before {content: \"▾\";}#sk-container-id-1 div.sk-estimator input.sk-toggleable__control:checked~label.sk-toggleable__label {background-color: #d4ebff;}#sk-container-id-1 div.sk-label input.sk-toggleable__control:checked~label.sk-toggleable__label {background-color: #d4ebff;}#sk-container-id-1 input.sk-hidden--visually {border: 0;clip: rect(1px 1px 1px 1px);clip: rect(1px, 1px, 1px, 1px);height: 1px;margin: -1px;overflow: hidden;padding: 0;position: absolute;width: 1px;}#sk-container-id-1 div.sk-estimator {font-family: monospace;background-color: #f0f8ff;border: 1px dotted black;border-radius: 0.25em;box-sizing: border-box;margin-bottom: 0.5em;}#sk-container-id-1 div.sk-estimator:hover {background-color: #d4ebff;}#sk-container-id-1 div.sk-parallel-item::after {content: \"\";width: 100%;border-bottom: 1px solid gray;flex-grow: 1;}#sk-container-id-1 div.sk-label:hover label.sk-toggleable__label {background-color: #d4ebff;}#sk-container-id-1 div.sk-serial::before {content: \"\";position: absolute;border-left: 1px solid gray;box-sizing: border-box;top: 0;bottom: 0;left: 50%;z-index: 0;}#sk-container-id-1 div.sk-serial {display: flex;flex-direction: column;align-items: center;background-color: white;padding-right: 0.2em;padding-left: 0.2em;position: relative;}#sk-container-id-1 div.sk-item {position: relative;z-index: 1;}#sk-container-id-1 div.sk-parallel {display: flex;align-items: stretch;justify-content: center;background-color: white;position: relative;}#sk-container-id-1 div.sk-item::before, #sk-container-id-1 div.sk-parallel-item::before {content: \"\";position: absolute;border-left: 1px solid gray;box-sizing: border-box;top: 0;bottom: 0;left: 50%;z-index: -1;}#sk-container-id-1 div.sk-parallel-item {display: flex;flex-direction: column;z-index: 1;position: relative;background-color: white;}#sk-container-id-1 div.sk-parallel-item:first-child::after {align-self: flex-end;width: 50%;}#sk-container-id-1 div.sk-parallel-item:last-child::after {align-self: flex-start;width: 50%;}#sk-container-id-1 div.sk-parallel-item:only-child::after {width: 0;}#sk-container-id-1 div.sk-dashed-wrapped {border: 1px dashed gray;margin: 0 0.4em 0.5em 0.4em;box-sizing: border-box;padding-bottom: 0.4em;background-color: white;}#sk-container-id-1 div.sk-label label {font-family: monospace;font-weight: bold;display: inline-block;line-height: 1.2em;}#sk-container-id-1 div.sk-label-container {text-align: center;}#sk-container-id-1 div.sk-container {/* jupyter's `normalize.less` sets `[hidden] { display: none; }` but bootstrap.min.css set `[hidden] { display: none !important; }` so we also need the `!important` here to be able to override the default hidden behavior on the sphinx rendered scikit-learn.org. See: https://github.com/scikit-learn/scikit-learn/issues/21755 */display: inline-block !important;position: relative;}#sk-container-id-1 div.sk-text-repr-fallback {display: none;}</style><div id=\"sk-container-id-1\" class=\"sk-top-container\"><div class=\"sk-text-repr-fallback\"><pre>DecisionTreeClassifier(random_state=100)</pre><b>In a Jupyter environment, please rerun this cell to show the HTML representation or trust the notebook. <br />On GitHub, the HTML representation is unable to render, please try loading this page with nbviewer.org.</b></div><div class=\"sk-container\" hidden><div class=\"sk-item\"><div class=\"sk-estimator sk-toggleable\"><input class=\"sk-toggleable__control sk-hidden--visually\" id=\"sk-estimator-id-1\" type=\"checkbox\" checked><label for=\"sk-estimator-id-1\" class=\"sk-toggleable__label sk-toggleable__label-arrow\">DecisionTreeClassifier</label><div class=\"sk-toggleable__content\"><pre>DecisionTreeClassifier(random_state=100)</pre></div></div></div></div></div>"
      ],
      "text/plain": [
       "DecisionTreeClassifier(random_state=100)"
      ]
     },
     "execution_count": 34,
     "metadata": {},
     "output_type": "execute_result"
    }
   ],
   "source": [
    "arvore_decisao(100)"
   ]
  },
  {
   "cell_type": "markdown",
   "id": "128c9c52",
   "metadata": {},
   "source": [
    "## 2. Regressão Logística"
   ]
  },
  {
   "cell_type": "code",
   "execution_count": 35,
   "id": "cf563925",
   "metadata": {},
   "outputs": [],
   "source": [
    "def regresao(i):\n",
    "    # Criando o modelo de Regressão Logística\n",
    "    clf = LogisticRegression(random_state=i)\n",
    "\n",
    "    # Treinando o modelo\n",
    "    clf.fit(X_train, y_train)\n",
    "\n",
    "    # Realizando previsões no conjunto de teste\n",
    "    y_pred = clf.predict(X_test)\n",
    "\n",
    "    # Avaliando a precisão do modelo\n",
    "#     score = clf.score(X_test, y_test)\n",
    "#     print(\"Precisão do modelo: {:.2f}%\".format(score*100))\n",
    "    return clf"
   ]
  },
  {
   "cell_type": "code",
   "execution_count": 36,
   "id": "efbbf46d",
   "metadata": {},
   "outputs": [
    {
     "name": "stderr",
     "output_type": "stream",
     "text": [
      "/Users/jair/opt/anaconda3/lib/python3.9/site-packages/sklearn/linear_model/_logistic.py:458: ConvergenceWarning: lbfgs failed to converge (status=1):\n",
      "STOP: TOTAL NO. of ITERATIONS REACHED LIMIT.\n",
      "\n",
      "Increase the number of iterations (max_iter) or scale the data as shown in:\n",
      "    https://scikit-learn.org/stable/modules/preprocessing.html\n",
      "Please also refer to the documentation for alternative solver options:\n",
      "    https://scikit-learn.org/stable/modules/linear_model.html#logistic-regression\n",
      "  n_iter_i = _check_optimize_result(\n"
     ]
    },
    {
     "data": {
      "text/html": [
       "<style>#sk-container-id-2 {color: black;background-color: white;}#sk-container-id-2 pre{padding: 0;}#sk-container-id-2 div.sk-toggleable {background-color: white;}#sk-container-id-2 label.sk-toggleable__label {cursor: pointer;display: block;width: 100%;margin-bottom: 0;padding: 0.3em;box-sizing: border-box;text-align: center;}#sk-container-id-2 label.sk-toggleable__label-arrow:before {content: \"▸\";float: left;margin-right: 0.25em;color: #696969;}#sk-container-id-2 label.sk-toggleable__label-arrow:hover:before {color: black;}#sk-container-id-2 div.sk-estimator:hover label.sk-toggleable__label-arrow:before {color: black;}#sk-container-id-2 div.sk-toggleable__content {max-height: 0;max-width: 0;overflow: hidden;text-align: left;background-color: #f0f8ff;}#sk-container-id-2 div.sk-toggleable__content pre {margin: 0.2em;color: black;border-radius: 0.25em;background-color: #f0f8ff;}#sk-container-id-2 input.sk-toggleable__control:checked~div.sk-toggleable__content {max-height: 200px;max-width: 100%;overflow: auto;}#sk-container-id-2 input.sk-toggleable__control:checked~label.sk-toggleable__label-arrow:before {content: \"▾\";}#sk-container-id-2 div.sk-estimator input.sk-toggleable__control:checked~label.sk-toggleable__label {background-color: #d4ebff;}#sk-container-id-2 div.sk-label input.sk-toggleable__control:checked~label.sk-toggleable__label {background-color: #d4ebff;}#sk-container-id-2 input.sk-hidden--visually {border: 0;clip: rect(1px 1px 1px 1px);clip: rect(1px, 1px, 1px, 1px);height: 1px;margin: -1px;overflow: hidden;padding: 0;position: absolute;width: 1px;}#sk-container-id-2 div.sk-estimator {font-family: monospace;background-color: #f0f8ff;border: 1px dotted black;border-radius: 0.25em;box-sizing: border-box;margin-bottom: 0.5em;}#sk-container-id-2 div.sk-estimator:hover {background-color: #d4ebff;}#sk-container-id-2 div.sk-parallel-item::after {content: \"\";width: 100%;border-bottom: 1px solid gray;flex-grow: 1;}#sk-container-id-2 div.sk-label:hover label.sk-toggleable__label {background-color: #d4ebff;}#sk-container-id-2 div.sk-serial::before {content: \"\";position: absolute;border-left: 1px solid gray;box-sizing: border-box;top: 0;bottom: 0;left: 50%;z-index: 0;}#sk-container-id-2 div.sk-serial {display: flex;flex-direction: column;align-items: center;background-color: white;padding-right: 0.2em;padding-left: 0.2em;position: relative;}#sk-container-id-2 div.sk-item {position: relative;z-index: 1;}#sk-container-id-2 div.sk-parallel {display: flex;align-items: stretch;justify-content: center;background-color: white;position: relative;}#sk-container-id-2 div.sk-item::before, #sk-container-id-2 div.sk-parallel-item::before {content: \"\";position: absolute;border-left: 1px solid gray;box-sizing: border-box;top: 0;bottom: 0;left: 50%;z-index: -1;}#sk-container-id-2 div.sk-parallel-item {display: flex;flex-direction: column;z-index: 1;position: relative;background-color: white;}#sk-container-id-2 div.sk-parallel-item:first-child::after {align-self: flex-end;width: 50%;}#sk-container-id-2 div.sk-parallel-item:last-child::after {align-self: flex-start;width: 50%;}#sk-container-id-2 div.sk-parallel-item:only-child::after {width: 0;}#sk-container-id-2 div.sk-dashed-wrapped {border: 1px dashed gray;margin: 0 0.4em 0.5em 0.4em;box-sizing: border-box;padding-bottom: 0.4em;background-color: white;}#sk-container-id-2 div.sk-label label {font-family: monospace;font-weight: bold;display: inline-block;line-height: 1.2em;}#sk-container-id-2 div.sk-label-container {text-align: center;}#sk-container-id-2 div.sk-container {/* jupyter's `normalize.less` sets `[hidden] { display: none; }` but bootstrap.min.css set `[hidden] { display: none !important; }` so we also need the `!important` here to be able to override the default hidden behavior on the sphinx rendered scikit-learn.org. See: https://github.com/scikit-learn/scikit-learn/issues/21755 */display: inline-block !important;position: relative;}#sk-container-id-2 div.sk-text-repr-fallback {display: none;}</style><div id=\"sk-container-id-2\" class=\"sk-top-container\"><div class=\"sk-text-repr-fallback\"><pre>LogisticRegression(random_state=100)</pre><b>In a Jupyter environment, please rerun this cell to show the HTML representation or trust the notebook. <br />On GitHub, the HTML representation is unable to render, please try loading this page with nbviewer.org.</b></div><div class=\"sk-container\" hidden><div class=\"sk-item\"><div class=\"sk-estimator sk-toggleable\"><input class=\"sk-toggleable__control sk-hidden--visually\" id=\"sk-estimator-id-2\" type=\"checkbox\" checked><label for=\"sk-estimator-id-2\" class=\"sk-toggleable__label sk-toggleable__label-arrow\">LogisticRegression</label><div class=\"sk-toggleable__content\"><pre>LogisticRegression(random_state=100)</pre></div></div></div></div></div>"
      ],
      "text/plain": [
       "LogisticRegression(random_state=100)"
      ]
     },
     "execution_count": 36,
     "metadata": {},
     "output_type": "execute_result"
    }
   ],
   "source": [
    "regresao(100)"
   ]
  },
  {
   "cell_type": "markdown",
   "id": "6dadb6eb",
   "metadata": {},
   "source": [
    "## 3. Random Forest"
   ]
  },
  {
   "cell_type": "code",
   "execution_count": 37,
   "id": "cd2b34ca",
   "metadata": {},
   "outputs": [],
   "source": [
    "def random_forest():\n",
    "    # Criando o modelo de Random Forest\n",
    "    clf = RandomForestClassifier(n_estimators=100, random_state=51)\n",
    "\n",
    "#     # Treinando o modelo\n",
    "#     clf.fit(X_train, y_train)\n",
    "\n",
    "#     # Realizando previsões no conjunto de teste\n",
    "#     y_pred = clf.predict(X_test)\n",
    "\n",
    "#     # Avaliando a precisão do modelo\n",
    "#     score = clf.score(X_test, y_test)\n",
    "#     print(\"Precisão do modelo: {:.2f}%\".format(score*100))\n",
    "    return clf"
   ]
  },
  {
   "cell_type": "code",
   "execution_count": 38,
   "id": "8e3b6bf4",
   "metadata": {},
   "outputs": [
    {
     "data": {
      "text/html": [
       "<style>#sk-container-id-3 {color: black;background-color: white;}#sk-container-id-3 pre{padding: 0;}#sk-container-id-3 div.sk-toggleable {background-color: white;}#sk-container-id-3 label.sk-toggleable__label {cursor: pointer;display: block;width: 100%;margin-bottom: 0;padding: 0.3em;box-sizing: border-box;text-align: center;}#sk-container-id-3 label.sk-toggleable__label-arrow:before {content: \"▸\";float: left;margin-right: 0.25em;color: #696969;}#sk-container-id-3 label.sk-toggleable__label-arrow:hover:before {color: black;}#sk-container-id-3 div.sk-estimator:hover label.sk-toggleable__label-arrow:before {color: black;}#sk-container-id-3 div.sk-toggleable__content {max-height: 0;max-width: 0;overflow: hidden;text-align: left;background-color: #f0f8ff;}#sk-container-id-3 div.sk-toggleable__content pre {margin: 0.2em;color: black;border-radius: 0.25em;background-color: #f0f8ff;}#sk-container-id-3 input.sk-toggleable__control:checked~div.sk-toggleable__content {max-height: 200px;max-width: 100%;overflow: auto;}#sk-container-id-3 input.sk-toggleable__control:checked~label.sk-toggleable__label-arrow:before {content: \"▾\";}#sk-container-id-3 div.sk-estimator input.sk-toggleable__control:checked~label.sk-toggleable__label {background-color: #d4ebff;}#sk-container-id-3 div.sk-label input.sk-toggleable__control:checked~label.sk-toggleable__label {background-color: #d4ebff;}#sk-container-id-3 input.sk-hidden--visually {border: 0;clip: rect(1px 1px 1px 1px);clip: rect(1px, 1px, 1px, 1px);height: 1px;margin: -1px;overflow: hidden;padding: 0;position: absolute;width: 1px;}#sk-container-id-3 div.sk-estimator {font-family: monospace;background-color: #f0f8ff;border: 1px dotted black;border-radius: 0.25em;box-sizing: border-box;margin-bottom: 0.5em;}#sk-container-id-3 div.sk-estimator:hover {background-color: #d4ebff;}#sk-container-id-3 div.sk-parallel-item::after {content: \"\";width: 100%;border-bottom: 1px solid gray;flex-grow: 1;}#sk-container-id-3 div.sk-label:hover label.sk-toggleable__label {background-color: #d4ebff;}#sk-container-id-3 div.sk-serial::before {content: \"\";position: absolute;border-left: 1px solid gray;box-sizing: border-box;top: 0;bottom: 0;left: 50%;z-index: 0;}#sk-container-id-3 div.sk-serial {display: flex;flex-direction: column;align-items: center;background-color: white;padding-right: 0.2em;padding-left: 0.2em;position: relative;}#sk-container-id-3 div.sk-item {position: relative;z-index: 1;}#sk-container-id-3 div.sk-parallel {display: flex;align-items: stretch;justify-content: center;background-color: white;position: relative;}#sk-container-id-3 div.sk-item::before, #sk-container-id-3 div.sk-parallel-item::before {content: \"\";position: absolute;border-left: 1px solid gray;box-sizing: border-box;top: 0;bottom: 0;left: 50%;z-index: -1;}#sk-container-id-3 div.sk-parallel-item {display: flex;flex-direction: column;z-index: 1;position: relative;background-color: white;}#sk-container-id-3 div.sk-parallel-item:first-child::after {align-self: flex-end;width: 50%;}#sk-container-id-3 div.sk-parallel-item:last-child::after {align-self: flex-start;width: 50%;}#sk-container-id-3 div.sk-parallel-item:only-child::after {width: 0;}#sk-container-id-3 div.sk-dashed-wrapped {border: 1px dashed gray;margin: 0 0.4em 0.5em 0.4em;box-sizing: border-box;padding-bottom: 0.4em;background-color: white;}#sk-container-id-3 div.sk-label label {font-family: monospace;font-weight: bold;display: inline-block;line-height: 1.2em;}#sk-container-id-3 div.sk-label-container {text-align: center;}#sk-container-id-3 div.sk-container {/* jupyter's `normalize.less` sets `[hidden] { display: none; }` but bootstrap.min.css set `[hidden] { display: none !important; }` so we also need the `!important` here to be able to override the default hidden behavior on the sphinx rendered scikit-learn.org. See: https://github.com/scikit-learn/scikit-learn/issues/21755 */display: inline-block !important;position: relative;}#sk-container-id-3 div.sk-text-repr-fallback {display: none;}</style><div id=\"sk-container-id-3\" class=\"sk-top-container\"><div class=\"sk-text-repr-fallback\"><pre>RandomForestClassifier(random_state=51)</pre><b>In a Jupyter environment, please rerun this cell to show the HTML representation or trust the notebook. <br />On GitHub, the HTML representation is unable to render, please try loading this page with nbviewer.org.</b></div><div class=\"sk-container\" hidden><div class=\"sk-item\"><div class=\"sk-estimator sk-toggleable\"><input class=\"sk-toggleable__control sk-hidden--visually\" id=\"sk-estimator-id-3\" type=\"checkbox\" checked><label for=\"sk-estimator-id-3\" class=\"sk-toggleable__label sk-toggleable__label-arrow\">RandomForestClassifier</label><div class=\"sk-toggleable__content\"><pre>RandomForestClassifier(random_state=51)</pre></div></div></div></div></div>"
      ],
      "text/plain": [
       "RandomForestClassifier(random_state=51)"
      ]
     },
     "execution_count": 38,
     "metadata": {},
     "output_type": "execute_result"
    }
   ],
   "source": [
    "random_forest()"
   ]
  },
  {
   "cell_type": "markdown",
   "id": "19208192",
   "metadata": {},
   "source": [
    "## 4. SVM"
   ]
  },
  {
   "cell_type": "code",
   "execution_count": 39,
   "id": "d2342c49",
   "metadata": {},
   "outputs": [],
   "source": [
    "def svm():\n",
    "    # Criando o modelo SVM\n",
    "    clf = SVC(random_state=100)\n",
    "\n",
    "#     # Treinando o modelo\n",
    "#     clf.fit(X_train, y_train)\n",
    "\n",
    "#     # Avaliando a acurácia do modelo\n",
    "#     accuracy = accuracy_score(y_test, y_pred)\n",
    "#     print('Acurácia do SVM:', accuracy)\n",
    "    return clf"
   ]
  },
  {
   "cell_type": "code",
   "execution_count": 40,
   "id": "4aee6c47",
   "metadata": {},
   "outputs": [
    {
     "data": {
      "text/html": [
       "<style>#sk-container-id-4 {color: black;background-color: white;}#sk-container-id-4 pre{padding: 0;}#sk-container-id-4 div.sk-toggleable {background-color: white;}#sk-container-id-4 label.sk-toggleable__label {cursor: pointer;display: block;width: 100%;margin-bottom: 0;padding: 0.3em;box-sizing: border-box;text-align: center;}#sk-container-id-4 label.sk-toggleable__label-arrow:before {content: \"▸\";float: left;margin-right: 0.25em;color: #696969;}#sk-container-id-4 label.sk-toggleable__label-arrow:hover:before {color: black;}#sk-container-id-4 div.sk-estimator:hover label.sk-toggleable__label-arrow:before {color: black;}#sk-container-id-4 div.sk-toggleable__content {max-height: 0;max-width: 0;overflow: hidden;text-align: left;background-color: #f0f8ff;}#sk-container-id-4 div.sk-toggleable__content pre {margin: 0.2em;color: black;border-radius: 0.25em;background-color: #f0f8ff;}#sk-container-id-4 input.sk-toggleable__control:checked~div.sk-toggleable__content {max-height: 200px;max-width: 100%;overflow: auto;}#sk-container-id-4 input.sk-toggleable__control:checked~label.sk-toggleable__label-arrow:before {content: \"▾\";}#sk-container-id-4 div.sk-estimator input.sk-toggleable__control:checked~label.sk-toggleable__label {background-color: #d4ebff;}#sk-container-id-4 div.sk-label input.sk-toggleable__control:checked~label.sk-toggleable__label {background-color: #d4ebff;}#sk-container-id-4 input.sk-hidden--visually {border: 0;clip: rect(1px 1px 1px 1px);clip: rect(1px, 1px, 1px, 1px);height: 1px;margin: -1px;overflow: hidden;padding: 0;position: absolute;width: 1px;}#sk-container-id-4 div.sk-estimator {font-family: monospace;background-color: #f0f8ff;border: 1px dotted black;border-radius: 0.25em;box-sizing: border-box;margin-bottom: 0.5em;}#sk-container-id-4 div.sk-estimator:hover {background-color: #d4ebff;}#sk-container-id-4 div.sk-parallel-item::after {content: \"\";width: 100%;border-bottom: 1px solid gray;flex-grow: 1;}#sk-container-id-4 div.sk-label:hover label.sk-toggleable__label {background-color: #d4ebff;}#sk-container-id-4 div.sk-serial::before {content: \"\";position: absolute;border-left: 1px solid gray;box-sizing: border-box;top: 0;bottom: 0;left: 50%;z-index: 0;}#sk-container-id-4 div.sk-serial {display: flex;flex-direction: column;align-items: center;background-color: white;padding-right: 0.2em;padding-left: 0.2em;position: relative;}#sk-container-id-4 div.sk-item {position: relative;z-index: 1;}#sk-container-id-4 div.sk-parallel {display: flex;align-items: stretch;justify-content: center;background-color: white;position: relative;}#sk-container-id-4 div.sk-item::before, #sk-container-id-4 div.sk-parallel-item::before {content: \"\";position: absolute;border-left: 1px solid gray;box-sizing: border-box;top: 0;bottom: 0;left: 50%;z-index: -1;}#sk-container-id-4 div.sk-parallel-item {display: flex;flex-direction: column;z-index: 1;position: relative;background-color: white;}#sk-container-id-4 div.sk-parallel-item:first-child::after {align-self: flex-end;width: 50%;}#sk-container-id-4 div.sk-parallel-item:last-child::after {align-self: flex-start;width: 50%;}#sk-container-id-4 div.sk-parallel-item:only-child::after {width: 0;}#sk-container-id-4 div.sk-dashed-wrapped {border: 1px dashed gray;margin: 0 0.4em 0.5em 0.4em;box-sizing: border-box;padding-bottom: 0.4em;background-color: white;}#sk-container-id-4 div.sk-label label {font-family: monospace;font-weight: bold;display: inline-block;line-height: 1.2em;}#sk-container-id-4 div.sk-label-container {text-align: center;}#sk-container-id-4 div.sk-container {/* jupyter's `normalize.less` sets `[hidden] { display: none; }` but bootstrap.min.css set `[hidden] { display: none !important; }` so we also need the `!important` here to be able to override the default hidden behavior on the sphinx rendered scikit-learn.org. See: https://github.com/scikit-learn/scikit-learn/issues/21755 */display: inline-block !important;position: relative;}#sk-container-id-4 div.sk-text-repr-fallback {display: none;}</style><div id=\"sk-container-id-4\" class=\"sk-top-container\"><div class=\"sk-text-repr-fallback\"><pre>SVC(random_state=100)</pre><b>In a Jupyter environment, please rerun this cell to show the HTML representation or trust the notebook. <br />On GitHub, the HTML representation is unable to render, please try loading this page with nbviewer.org.</b></div><div class=\"sk-container\" hidden><div class=\"sk-item\"><div class=\"sk-estimator sk-toggleable\"><input class=\"sk-toggleable__control sk-hidden--visually\" id=\"sk-estimator-id-4\" type=\"checkbox\" checked><label for=\"sk-estimator-id-4\" class=\"sk-toggleable__label sk-toggleable__label-arrow\">SVC</label><div class=\"sk-toggleable__content\"><pre>SVC(random_state=100)</pre></div></div></div></div></div>"
      ],
      "text/plain": [
       "SVC(random_state=100)"
      ]
     },
     "execution_count": 40,
     "metadata": {},
     "output_type": "execute_result"
    }
   ],
   "source": [
    "svm()"
   ]
  },
  {
   "cell_type": "markdown",
   "id": "b9205446",
   "metadata": {},
   "source": [
    "## 5. Rede Neural"
   ]
  },
  {
   "cell_type": "code",
   "execution_count": 49,
   "id": "afe28018",
   "metadata": {},
   "outputs": [],
   "source": [
    "def rede_neural():\n",
    "    # Criando o modelo de rede neural\n",
    "    clf = MLPClassifier(hidden_layer_sizes=(100,), max_iter=1000, alpha=0.0000001, random_state=52)\n",
    "    # clf = MLPClassifier(hidden_layer_sizes=(100, 50), max_iter=1000, alpha=0.0001, random_state=52)\n",
    "\n",
    "    # Treinando o modelo\n",
    "#     clf.fit(X_train, y_train)\n",
    "\n",
    "    # Realizando previsões no conjunto de teste\n",
    "#     y_pred = clf.predict(X_test)\n",
    "\n",
    "    # Avaliando a precisão do modelo\n",
    "#     score = clf.score(X_test, y_test)\n",
    "#     print(\"Precisão do modelo: {:.2f}%\".format(score*100))\n",
    "    return clf"
   ]
  },
  {
   "cell_type": "code",
   "execution_count": null,
   "id": "82dc3cb2",
   "metadata": {},
   "outputs": [],
   "source": []
  },
  {
   "cell_type": "code",
   "execution_count": null,
   "id": "77dab4ee",
   "metadata": {},
   "outputs": [],
   "source": []
  },
  {
   "cell_type": "code",
   "execution_count": 50,
   "id": "c22dd496",
   "metadata": {},
   "outputs": [],
   "source": [
    "from sklearn.model_selection import KFold"
   ]
  },
  {
   "cell_type": "code",
   "execution_count": 57,
   "id": "d6c8d332",
   "metadata": {},
   "outputs": [],
   "source": [
    "def cross_validation(k, model, X, y):\n",
    "    kf = KFold(n_splits=k)\n",
    "    \n",
    "    accuracies = []\n",
    "    \n",
    "    for train_index, test_index in kf.split(X):\n",
    "        X_train, X_test = X.iloc[train_index], X.iloc[test_index]\n",
    "        y_train, y_test = y.iloc[train_index], y.iloc[test_index]\n",
    "        \n",
    "        model.fit(X_train, y_train)\n",
    "        score = model.score(X_test, y_test)\n",
    "        accuracies.append(score)\n",
    "        \n",
    "    mean_accuracies = sum(accuracies) / len(accuracies)\n",
    "    return mean_accuracies"
   ]
  },
  {
   "cell_type": "code",
   "execution_count": 62,
   "id": "4b2525f5",
   "metadata": {},
   "outputs": [],
   "source": [
    "# accuracy = cross_validation(10, arvore_decisao(100), X, y)\n",
    "# accuracy = cross_validation(10, regresao(42), X, y)\n",
    "# accuracy = cross_validation(10, random_forest(), X, y)\n",
    "# accuracy = cross_validation(10, svm(), X, y)\n",
    "accuracy = cross_validation(10, rede_neural(), X, y)"
   ]
  },
  {
   "cell_type": "code",
   "execution_count": 63,
   "id": "9af654ee",
   "metadata": {},
   "outputs": [
    {
     "name": "stdout",
     "output_type": "stream",
     "text": [
      "Acurácia média: 24.0000000%\n"
     ]
    }
   ],
   "source": [
    "print(\"Acurácia média: {:.7f}%\".format(accuracy * 100))"
   ]
  },
  {
   "cell_type": "code",
   "execution_count": 64,
   "id": "351b9848",
   "metadata": {},
   "outputs": [],
   "source": [
    "def avalicao_modelo(model, X_train, y_train, y_test, y_pred):\n",
    "    model.fit(X_train, y_train)\n",
    "\n",
    "    # Fazer previsões no conjunto de teste\n",
    "    y_pred = model.predict(X_test)\n",
    "\n",
    "    # Calcular as métricas de avaliação\n",
    "    accuracy = accuracy_score(y_test, y_pred)\n",
    "    precision = precision_score(y_test, y_pred, average='weighted')\n",
    "    recall = recall_score(y_test, y_pred, average='weighted')\n",
    "    f1 = f1_score(y_test, y_pred, average='weighted')\n",
    "#     confusion_matrix = confusion_matrix(y_test, y_pred)\n",
    "\n",
    "    # Imprimir as métricas de avaliação\n",
    "    print(\"Acurácia: {:.2f}\".format(accuracy * 100))\n",
    "    print(\"Precisão: {:.2f}\".format(precision * 100))\n",
    "    print(\"Revocação: {:.2f}\".format(recall * 100))\n",
    "    print(\"F1-Score: {:.2f}\".format(f1 * 100))\n",
    "#     print(\"Matriz de Confusão:\")\n",
    "#     print(confusion_matrix)"
   ]
  },
  {
   "cell_type": "code",
   "execution_count": 65,
   "id": "224e3d00",
   "metadata": {},
   "outputs": [
    {
     "name": "stdout",
     "output_type": "stream",
     "text": [
      "Acurácia: 45.45\n",
      "Precisão: 42.58\n",
      "Revocação: 45.45\n",
      "F1-Score: 41.36\n"
     ]
    },
    {
     "name": "stderr",
     "output_type": "stream",
     "text": [
      "/Users/jair/opt/anaconda3/lib/python3.9/site-packages/sklearn/metrics/_classification.py:1344: UndefinedMetricWarning: Precision is ill-defined and being set to 0.0 in labels with no predicted samples. Use `zero_division` parameter to control this behavior.\n",
      "  _warn_prf(average, modifier, msg_start, len(result))\n",
      "/Users/jair/opt/anaconda3/lib/python3.9/site-packages/sklearn/metrics/_classification.py:1344: UndefinedMetricWarning: Recall is ill-defined and being set to 0.0 in labels with no true samples. Use `zero_division` parameter to control this behavior.\n",
      "  _warn_prf(average, modifier, msg_start, len(result))\n"
     ]
    }
   ],
   "source": [
    "# avalicao_modelo(arvore_decisao(100), X_train, y_train, y_test, y_pred)\n",
    "# avalicao_modelo(regresao(100), X_train, y_train, y_test, y_pred)\n",
    "# avalicao_modelo(random_forest(), X_train, y_train, y_test, y_pred)\n",
    "# avalicao_modelo(svm(), X_train, y_train, y_test, y_pred)\n",
    "avalicao_modelo(rede_neural(), X_train, y_train, y_test, y_pred)"
   ]
  },
  {
   "cell_type": "code",
   "execution_count": null,
   "id": "7dcc9630",
   "metadata": {},
   "outputs": [],
   "source": []
  },
  {
   "cell_type": "code",
   "execution_count": 66,
   "id": "6c5e9513",
   "metadata": {},
   "outputs": [],
   "source": [
    "from sklearn.neural_network import MLPClassifier\n",
    "from sklearn.metrics import cohen_kappa_score\n",
    "\n",
    "def rede_neural_kap(X_train, y_train, X_test, y_test):\n",
    "    # Criando o modelo de rede neural\n",
    "    clf = MLPClassifier(hidden_layer_sizes=(100,), max_iter=1000, alpha=0.0000001, random_state=52)\n",
    "\n",
    "    # Treinando o modelo\n",
    "    clf.fit(X_train, y_train)\n",
    "\n",
    "    # Realizando previsões no conjunto de teste\n",
    "    y_pred = clf.predict(X_test)\n",
    "\n",
    "    # Avaliando a precisão do modelo\n",
    "    score = clf.score(X_test, y_test)\n",
    "    print(\"Precisão do modelo: {:.2f}%\".format(score*100))\n",
    "\n",
    "    # Calculando o coeficiente kappa\n",
    "    kappa = cohen_kappa_score(y_test, y_pred)\n",
    "    print(\"Coeficiente kappa: {:.4f}\".format(kappa))\n",
    "\n",
    "    return clf\n"
   ]
  },
  {
   "cell_type": "code",
   "execution_count": 67,
   "id": "88de34d0",
   "metadata": {},
   "outputs": [
    {
     "name": "stdout",
     "output_type": "stream",
     "text": [
      "Precisão do modelo: 45.45%\n",
      "Coeficiente kappa: 0.4227\n"
     ]
    },
    {
     "data": {
      "text/html": [
       "<style>#sk-container-id-5 {color: black;background-color: white;}#sk-container-id-5 pre{padding: 0;}#sk-container-id-5 div.sk-toggleable {background-color: white;}#sk-container-id-5 label.sk-toggleable__label {cursor: pointer;display: block;width: 100%;margin-bottom: 0;padding: 0.3em;box-sizing: border-box;text-align: center;}#sk-container-id-5 label.sk-toggleable__label-arrow:before {content: \"▸\";float: left;margin-right: 0.25em;color: #696969;}#sk-container-id-5 label.sk-toggleable__label-arrow:hover:before {color: black;}#sk-container-id-5 div.sk-estimator:hover label.sk-toggleable__label-arrow:before {color: black;}#sk-container-id-5 div.sk-toggleable__content {max-height: 0;max-width: 0;overflow: hidden;text-align: left;background-color: #f0f8ff;}#sk-container-id-5 div.sk-toggleable__content pre {margin: 0.2em;color: black;border-radius: 0.25em;background-color: #f0f8ff;}#sk-container-id-5 input.sk-toggleable__control:checked~div.sk-toggleable__content {max-height: 200px;max-width: 100%;overflow: auto;}#sk-container-id-5 input.sk-toggleable__control:checked~label.sk-toggleable__label-arrow:before {content: \"▾\";}#sk-container-id-5 div.sk-estimator input.sk-toggleable__control:checked~label.sk-toggleable__label {background-color: #d4ebff;}#sk-container-id-5 div.sk-label input.sk-toggleable__control:checked~label.sk-toggleable__label {background-color: #d4ebff;}#sk-container-id-5 input.sk-hidden--visually {border: 0;clip: rect(1px 1px 1px 1px);clip: rect(1px, 1px, 1px, 1px);height: 1px;margin: -1px;overflow: hidden;padding: 0;position: absolute;width: 1px;}#sk-container-id-5 div.sk-estimator {font-family: monospace;background-color: #f0f8ff;border: 1px dotted black;border-radius: 0.25em;box-sizing: border-box;margin-bottom: 0.5em;}#sk-container-id-5 div.sk-estimator:hover {background-color: #d4ebff;}#sk-container-id-5 div.sk-parallel-item::after {content: \"\";width: 100%;border-bottom: 1px solid gray;flex-grow: 1;}#sk-container-id-5 div.sk-label:hover label.sk-toggleable__label {background-color: #d4ebff;}#sk-container-id-5 div.sk-serial::before {content: \"\";position: absolute;border-left: 1px solid gray;box-sizing: border-box;top: 0;bottom: 0;left: 50%;z-index: 0;}#sk-container-id-5 div.sk-serial {display: flex;flex-direction: column;align-items: center;background-color: white;padding-right: 0.2em;padding-left: 0.2em;position: relative;}#sk-container-id-5 div.sk-item {position: relative;z-index: 1;}#sk-container-id-5 div.sk-parallel {display: flex;align-items: stretch;justify-content: center;background-color: white;position: relative;}#sk-container-id-5 div.sk-item::before, #sk-container-id-5 div.sk-parallel-item::before {content: \"\";position: absolute;border-left: 1px solid gray;box-sizing: border-box;top: 0;bottom: 0;left: 50%;z-index: -1;}#sk-container-id-5 div.sk-parallel-item {display: flex;flex-direction: column;z-index: 1;position: relative;background-color: white;}#sk-container-id-5 div.sk-parallel-item:first-child::after {align-self: flex-end;width: 50%;}#sk-container-id-5 div.sk-parallel-item:last-child::after {align-self: flex-start;width: 50%;}#sk-container-id-5 div.sk-parallel-item:only-child::after {width: 0;}#sk-container-id-5 div.sk-dashed-wrapped {border: 1px dashed gray;margin: 0 0.4em 0.5em 0.4em;box-sizing: border-box;padding-bottom: 0.4em;background-color: white;}#sk-container-id-5 div.sk-label label {font-family: monospace;font-weight: bold;display: inline-block;line-height: 1.2em;}#sk-container-id-5 div.sk-label-container {text-align: center;}#sk-container-id-5 div.sk-container {/* jupyter's `normalize.less` sets `[hidden] { display: none; }` but bootstrap.min.css set `[hidden] { display: none !important; }` so we also need the `!important` here to be able to override the default hidden behavior on the sphinx rendered scikit-learn.org. See: https://github.com/scikit-learn/scikit-learn/issues/21755 */display: inline-block !important;position: relative;}#sk-container-id-5 div.sk-text-repr-fallback {display: none;}</style><div id=\"sk-container-id-5\" class=\"sk-top-container\"><div class=\"sk-text-repr-fallback\"><pre>MLPClassifier(alpha=1e-07, max_iter=1000, random_state=52)</pre><b>In a Jupyter environment, please rerun this cell to show the HTML representation or trust the notebook. <br />On GitHub, the HTML representation is unable to render, please try loading this page with nbviewer.org.</b></div><div class=\"sk-container\" hidden><div class=\"sk-item\"><div class=\"sk-estimator sk-toggleable\"><input class=\"sk-toggleable__control sk-hidden--visually\" id=\"sk-estimator-id-5\" type=\"checkbox\" checked><label for=\"sk-estimator-id-5\" class=\"sk-toggleable__label sk-toggleable__label-arrow\">MLPClassifier</label><div class=\"sk-toggleable__content\"><pre>MLPClassifier(alpha=1e-07, max_iter=1000, random_state=52)</pre></div></div></div></div></div>"
      ],
      "text/plain": [
       "MLPClassifier(alpha=1e-07, max_iter=1000, random_state=52)"
      ]
     },
     "execution_count": 67,
     "metadata": {},
     "output_type": "execute_result"
    }
   ],
   "source": [
    "rede_neural_k(X_train, y_train, X_test, y_test)"
   ]
  },
  {
   "cell_type": "code",
   "execution_count": 68,
   "id": "1a25d5e8",
   "metadata": {},
   "outputs": [],
   "source": [
    "from sklearn.ensemble import RandomForestClassifier\n",
    "from sklearn.metrics import cohen_kappa_score\n",
    "\n",
    "def random_forest_k(X_train, y_train, X_test, y_test):\n",
    "    # Criando o modelo de Random Forest\n",
    "    clf = RandomForestClassifier(n_estimators=100, random_state=51)\n",
    "\n",
    "    # Treinando o modelo\n",
    "    clf.fit(X_train, y_train)\n",
    "\n",
    "    # Realizando previsões no conjunto de teste\n",
    "    y_pred = clf.predict(X_test)\n",
    "\n",
    "    # Avaliando a precisão do modelo\n",
    "    score = clf.score(X_test, y_test)\n",
    "    print(\"Precisão do modelo: {:.2f}%\".format(score*100))\n",
    "\n",
    "    # Calculando o coeficiente kappa\n",
    "    kappa = cohen_kappa_score(y_test, y_pred)\n",
    "    print(\"Coeficiente kappa: {:.4f}\".format(kappa))\n",
    "\n",
    "    return clf\n"
   ]
  },
  {
   "cell_type": "code",
   "execution_count": 69,
   "id": "6b83aa81",
   "metadata": {},
   "outputs": [
    {
     "name": "stdout",
     "output_type": "stream",
     "text": [
      "Precisão do modelo: 51.52%\n",
      "Coeficiente kappa: 0.4884\n"
     ]
    },
    {
     "data": {
      "text/html": [
       "<style>#sk-container-id-6 {color: black;background-color: white;}#sk-container-id-6 pre{padding: 0;}#sk-container-id-6 div.sk-toggleable {background-color: white;}#sk-container-id-6 label.sk-toggleable__label {cursor: pointer;display: block;width: 100%;margin-bottom: 0;padding: 0.3em;box-sizing: border-box;text-align: center;}#sk-container-id-6 label.sk-toggleable__label-arrow:before {content: \"▸\";float: left;margin-right: 0.25em;color: #696969;}#sk-container-id-6 label.sk-toggleable__label-arrow:hover:before {color: black;}#sk-container-id-6 div.sk-estimator:hover label.sk-toggleable__label-arrow:before {color: black;}#sk-container-id-6 div.sk-toggleable__content {max-height: 0;max-width: 0;overflow: hidden;text-align: left;background-color: #f0f8ff;}#sk-container-id-6 div.sk-toggleable__content pre {margin: 0.2em;color: black;border-radius: 0.25em;background-color: #f0f8ff;}#sk-container-id-6 input.sk-toggleable__control:checked~div.sk-toggleable__content {max-height: 200px;max-width: 100%;overflow: auto;}#sk-container-id-6 input.sk-toggleable__control:checked~label.sk-toggleable__label-arrow:before {content: \"▾\";}#sk-container-id-6 div.sk-estimator input.sk-toggleable__control:checked~label.sk-toggleable__label {background-color: #d4ebff;}#sk-container-id-6 div.sk-label input.sk-toggleable__control:checked~label.sk-toggleable__label {background-color: #d4ebff;}#sk-container-id-6 input.sk-hidden--visually {border: 0;clip: rect(1px 1px 1px 1px);clip: rect(1px, 1px, 1px, 1px);height: 1px;margin: -1px;overflow: hidden;padding: 0;position: absolute;width: 1px;}#sk-container-id-6 div.sk-estimator {font-family: monospace;background-color: #f0f8ff;border: 1px dotted black;border-radius: 0.25em;box-sizing: border-box;margin-bottom: 0.5em;}#sk-container-id-6 div.sk-estimator:hover {background-color: #d4ebff;}#sk-container-id-6 div.sk-parallel-item::after {content: \"\";width: 100%;border-bottom: 1px solid gray;flex-grow: 1;}#sk-container-id-6 div.sk-label:hover label.sk-toggleable__label {background-color: #d4ebff;}#sk-container-id-6 div.sk-serial::before {content: \"\";position: absolute;border-left: 1px solid gray;box-sizing: border-box;top: 0;bottom: 0;left: 50%;z-index: 0;}#sk-container-id-6 div.sk-serial {display: flex;flex-direction: column;align-items: center;background-color: white;padding-right: 0.2em;padding-left: 0.2em;position: relative;}#sk-container-id-6 div.sk-item {position: relative;z-index: 1;}#sk-container-id-6 div.sk-parallel {display: flex;align-items: stretch;justify-content: center;background-color: white;position: relative;}#sk-container-id-6 div.sk-item::before, #sk-container-id-6 div.sk-parallel-item::before {content: \"\";position: absolute;border-left: 1px solid gray;box-sizing: border-box;top: 0;bottom: 0;left: 50%;z-index: -1;}#sk-container-id-6 div.sk-parallel-item {display: flex;flex-direction: column;z-index: 1;position: relative;background-color: white;}#sk-container-id-6 div.sk-parallel-item:first-child::after {align-self: flex-end;width: 50%;}#sk-container-id-6 div.sk-parallel-item:last-child::after {align-self: flex-start;width: 50%;}#sk-container-id-6 div.sk-parallel-item:only-child::after {width: 0;}#sk-container-id-6 div.sk-dashed-wrapped {border: 1px dashed gray;margin: 0 0.4em 0.5em 0.4em;box-sizing: border-box;padding-bottom: 0.4em;background-color: white;}#sk-container-id-6 div.sk-label label {font-family: monospace;font-weight: bold;display: inline-block;line-height: 1.2em;}#sk-container-id-6 div.sk-label-container {text-align: center;}#sk-container-id-6 div.sk-container {/* jupyter's `normalize.less` sets `[hidden] { display: none; }` but bootstrap.min.css set `[hidden] { display: none !important; }` so we also need the `!important` here to be able to override the default hidden behavior on the sphinx rendered scikit-learn.org. See: https://github.com/scikit-learn/scikit-learn/issues/21755 */display: inline-block !important;position: relative;}#sk-container-id-6 div.sk-text-repr-fallback {display: none;}</style><div id=\"sk-container-id-6\" class=\"sk-top-container\"><div class=\"sk-text-repr-fallback\"><pre>RandomForestClassifier(random_state=51)</pre><b>In a Jupyter environment, please rerun this cell to show the HTML representation or trust the notebook. <br />On GitHub, the HTML representation is unable to render, please try loading this page with nbviewer.org.</b></div><div class=\"sk-container\" hidden><div class=\"sk-item\"><div class=\"sk-estimator sk-toggleable\"><input class=\"sk-toggleable__control sk-hidden--visually\" id=\"sk-estimator-id-6\" type=\"checkbox\" checked><label for=\"sk-estimator-id-6\" class=\"sk-toggleable__label sk-toggleable__label-arrow\">RandomForestClassifier</label><div class=\"sk-toggleable__content\"><pre>RandomForestClassifier(random_state=51)</pre></div></div></div></div></div>"
      ],
      "text/plain": [
       "RandomForestClassifier(random_state=51)"
      ]
     },
     "execution_count": 69,
     "metadata": {},
     "output_type": "execute_result"
    }
   ],
   "source": [
    "random_forest_k(X_train, y_train, X_test, y_test)"
   ]
  },
  {
   "cell_type": "code",
   "execution_count": 72,
   "id": "b97acff1",
   "metadata": {},
   "outputs": [],
   "source": [
    "from sklearn.tree import DecisionTreeClassifier\n",
    "from sklearn.metrics import cohen_kappa_score\n",
    "\n",
    "def arvore_decisao_K(X_train, y_train, X_test, y_test, random_state):\n",
    "    # Criando o modelo de Árvore de Decisão\n",
    "    clf = DecisionTreeClassifier(random_state=random_state, criterion='gini')\n",
    "\n",
    "    # Treinando o modelo\n",
    "    clf.fit(X_train, y_train)\n",
    "    \n",
    "    # Exibindo os nós da árvore de decisão\n",
    "    print(\"Nós da Árvore de Decisão:\")\n",
    "    print(clf.tree_)\n",
    "    \n",
    "    # Realizando previsões no conjunto de teste\n",
    "    y_pred = clf.predict(X_test)\n",
    "\n",
    "    # Avaliando a precisão do modelo\n",
    "    score = clf.score(X_test, y_test)\n",
    "    print(\"Precisão do modelo: {:.2f}%\".format(score*100))\n",
    "\n",
    "    # Calculando o coeficiente kappa\n",
    "    kappa = cohen_kappa_score(y_test, y_pred)\n",
    "    print(\"Coeficiente kappa: {:.4f}\".format(kappa))\n",
    "\n",
    "    return clf\n"
   ]
  },
  {
   "cell_type": "code",
   "execution_count": 73,
   "id": "b5be5db3",
   "metadata": {},
   "outputs": [
    {
     "name": "stdout",
     "output_type": "stream",
     "text": [
      "Nós da Árvore de Decisão:\n",
      "<sklearn.tree._tree.Tree object at 0x7f7ad843e340>\n",
      "Precisão do modelo: 57.58%\n",
      "Coeficiente kappa: 0.5484\n"
     ]
    },
    {
     "data": {
      "text/html": [
       "<style>#sk-container-id-8 {color: black;background-color: white;}#sk-container-id-8 pre{padding: 0;}#sk-container-id-8 div.sk-toggleable {background-color: white;}#sk-container-id-8 label.sk-toggleable__label {cursor: pointer;display: block;width: 100%;margin-bottom: 0;padding: 0.3em;box-sizing: border-box;text-align: center;}#sk-container-id-8 label.sk-toggleable__label-arrow:before {content: \"▸\";float: left;margin-right: 0.25em;color: #696969;}#sk-container-id-8 label.sk-toggleable__label-arrow:hover:before {color: black;}#sk-container-id-8 div.sk-estimator:hover label.sk-toggleable__label-arrow:before {color: black;}#sk-container-id-8 div.sk-toggleable__content {max-height: 0;max-width: 0;overflow: hidden;text-align: left;background-color: #f0f8ff;}#sk-container-id-8 div.sk-toggleable__content pre {margin: 0.2em;color: black;border-radius: 0.25em;background-color: #f0f8ff;}#sk-container-id-8 input.sk-toggleable__control:checked~div.sk-toggleable__content {max-height: 200px;max-width: 100%;overflow: auto;}#sk-container-id-8 input.sk-toggleable__control:checked~label.sk-toggleable__label-arrow:before {content: \"▾\";}#sk-container-id-8 div.sk-estimator input.sk-toggleable__control:checked~label.sk-toggleable__label {background-color: #d4ebff;}#sk-container-id-8 div.sk-label input.sk-toggleable__control:checked~label.sk-toggleable__label {background-color: #d4ebff;}#sk-container-id-8 input.sk-hidden--visually {border: 0;clip: rect(1px 1px 1px 1px);clip: rect(1px, 1px, 1px, 1px);height: 1px;margin: -1px;overflow: hidden;padding: 0;position: absolute;width: 1px;}#sk-container-id-8 div.sk-estimator {font-family: monospace;background-color: #f0f8ff;border: 1px dotted black;border-radius: 0.25em;box-sizing: border-box;margin-bottom: 0.5em;}#sk-container-id-8 div.sk-estimator:hover {background-color: #d4ebff;}#sk-container-id-8 div.sk-parallel-item::after {content: \"\";width: 100%;border-bottom: 1px solid gray;flex-grow: 1;}#sk-container-id-8 div.sk-label:hover label.sk-toggleable__label {background-color: #d4ebff;}#sk-container-id-8 div.sk-serial::before {content: \"\";position: absolute;border-left: 1px solid gray;box-sizing: border-box;top: 0;bottom: 0;left: 50%;z-index: 0;}#sk-container-id-8 div.sk-serial {display: flex;flex-direction: column;align-items: center;background-color: white;padding-right: 0.2em;padding-left: 0.2em;position: relative;}#sk-container-id-8 div.sk-item {position: relative;z-index: 1;}#sk-container-id-8 div.sk-parallel {display: flex;align-items: stretch;justify-content: center;background-color: white;position: relative;}#sk-container-id-8 div.sk-item::before, #sk-container-id-8 div.sk-parallel-item::before {content: \"\";position: absolute;border-left: 1px solid gray;box-sizing: border-box;top: 0;bottom: 0;left: 50%;z-index: -1;}#sk-container-id-8 div.sk-parallel-item {display: flex;flex-direction: column;z-index: 1;position: relative;background-color: white;}#sk-container-id-8 div.sk-parallel-item:first-child::after {align-self: flex-end;width: 50%;}#sk-container-id-8 div.sk-parallel-item:last-child::after {align-self: flex-start;width: 50%;}#sk-container-id-8 div.sk-parallel-item:only-child::after {width: 0;}#sk-container-id-8 div.sk-dashed-wrapped {border: 1px dashed gray;margin: 0 0.4em 0.5em 0.4em;box-sizing: border-box;padding-bottom: 0.4em;background-color: white;}#sk-container-id-8 div.sk-label label {font-family: monospace;font-weight: bold;display: inline-block;line-height: 1.2em;}#sk-container-id-8 div.sk-label-container {text-align: center;}#sk-container-id-8 div.sk-container {/* jupyter's `normalize.less` sets `[hidden] { display: none; }` but bootstrap.min.css set `[hidden] { display: none !important; }` so we also need the `!important` here to be able to override the default hidden behavior on the sphinx rendered scikit-learn.org. See: https://github.com/scikit-learn/scikit-learn/issues/21755 */display: inline-block !important;position: relative;}#sk-container-id-8 div.sk-text-repr-fallback {display: none;}</style><div id=\"sk-container-id-8\" class=\"sk-top-container\"><div class=\"sk-text-repr-fallback\"><pre>DecisionTreeClassifier(random_state=42)</pre><b>In a Jupyter environment, please rerun this cell to show the HTML representation or trust the notebook. <br />On GitHub, the HTML representation is unable to render, please try loading this page with nbviewer.org.</b></div><div class=\"sk-container\" hidden><div class=\"sk-item\"><div class=\"sk-estimator sk-toggleable\"><input class=\"sk-toggleable__control sk-hidden--visually\" id=\"sk-estimator-id-8\" type=\"checkbox\" checked><label for=\"sk-estimator-id-8\" class=\"sk-toggleable__label sk-toggleable__label-arrow\">DecisionTreeClassifier</label><div class=\"sk-toggleable__content\"><pre>DecisionTreeClassifier(random_state=42)</pre></div></div></div></div></div>"
      ],
      "text/plain": [
       "DecisionTreeClassifier(random_state=42)"
      ]
     },
     "execution_count": 73,
     "metadata": {},
     "output_type": "execute_result"
    }
   ],
   "source": [
    "arvore_decisao_K(X_train, y_train, X_test, y_test, 42)"
   ]
  },
  {
   "cell_type": "code",
   "execution_count": 74,
   "id": "b86c6f73",
   "metadata": {},
   "outputs": [],
   "source": [
    "from sklearn.tree import export_text\n",
    "\n",
    "def arvore_decisao_2(X_train, y_train, X_test, y_test, random_state):\n",
    "    # Criando o modelo de Árvore de Decisão\n",
    "    clf = DecisionTreeClassifier(random_state=random_state, criterion='gini')\n",
    "\n",
    "    # Treinando o modelo\n",
    "    clf.fit(X_train, y_train)\n",
    "\n",
    "    # Exibindo os nós da árvore de decisão\n",
    "    tree_rules = export_text(clf, feature_names=list(X_train.columns))\n",
    "    print(\"Nós da Árvore de Decisão:\")\n",
    "    print(tree_rules)\n",
    "\n",
    "    # Realizando previsões no conjunto de teste\n",
    "    y_pred = clf.predict(X_test)\n",
    "\n",
    "    # Avaliando a precisão do modelo\n",
    "    score = clf.score(X_test, y_test)\n",
    "    print(\"Precisão do modelo: {:.2f}%\".format(score*100))\n",
    "\n",
    "    # Calculando o coeficiente kappa\n",
    "    kappa = cohen_kappa_score(y_test, y_pred)\n",
    "    print(\"Coeficiente kappa: {:.4f}\".format(kappa))\n",
    "\n",
    "    return clf\n"
   ]
  },
  {
   "cell_type": "code",
   "execution_count": 75,
   "id": "3521a456",
   "metadata": {},
   "outputs": [
    {
     "name": "stdout",
     "output_type": "stream",
     "text": [
      "Nós da Árvore de Decisão:\n",
      "|--- clinica <= 2.50\n",
      "|   |--- hialinose <= 1.00\n",
      "|   |   |--- class: 28\n",
      "|   |--- hialinose >  1.00\n",
      "|   |   |--- class: 26\n",
      "|--- clinica >  2.50\n",
      "|   |--- imunohistoquimica <= 0.50\n",
      "|   |   |--- class: 22\n",
      "|   |--- imunohistoquimica >  0.50\n",
      "|   |   |--- imunodepositos <= 0.50\n",
      "|   |   |   |--- class: 18\n",
      "|   |   |--- imunodepositos >  0.50\n",
      "|   |   |   |--- podocito <= 0.50\n",
      "|   |   |   |   |--- class: 5\n",
      "|   |   |   |--- podocito >  0.50\n",
      "|   |   |   |   |--- imunohistoquimica <= 1.50\n",
      "|   |   |   |   |   |--- class: 21\n",
      "|   |   |   |   |--- imunohistoquimica >  1.50\n",
      "|   |   |   |   |   |--- microscopia_eletronica <= 14.50\n",
      "|   |   |   |   |   |   |--- padrao_de_deposicao <= 2.50\n",
      "|   |   |   |   |   |   |   |--- microscopia_eletronica <= 8.50\n",
      "|   |   |   |   |   |   |   |   |--- class: 17\n",
      "|   |   |   |   |   |   |   |--- microscopia_eletronica >  8.50\n",
      "|   |   |   |   |   |   |   |   |--- class: 19\n",
      "|   |   |   |   |   |   |--- padrao_de_deposicao >  2.50\n",
      "|   |   |   |   |   |   |   |--- imunodepositos <= 8.00\n",
      "|   |   |   |   |   |   |   |   |--- class: 27\n",
      "|   |   |   |   |   |   |   |--- imunodepositos >  8.00\n",
      "|   |   |   |   |   |   |   |   |--- imunodepositos <= 14.50\n",
      "|   |   |   |   |   |   |   |   |   |--- class: 7\n",
      "|   |   |   |   |   |   |   |   |--- imunodepositos >  14.50\n",
      "|   |   |   |   |   |   |   |   |   |--- podocito <= 1.50\n",
      "|   |   |   |   |   |   |   |   |   |   |--- tufo_glomerular <= 5.50\n",
      "|   |   |   |   |   |   |   |   |   |   |   |--- class: 25\n",
      "|   |   |   |   |   |   |   |   |   |   |--- tufo_glomerular >  5.50\n",
      "|   |   |   |   |   |   |   |   |   |   |   |--- truncated branch of depth 4\n",
      "|   |   |   |   |   |   |   |   |   |--- podocito >  1.50\n",
      "|   |   |   |   |   |   |   |   |   |   |--- class: 2\n",
      "|   |   |   |   |   |--- microscopia_eletronica >  14.50\n",
      "|   |   |   |   |   |   |--- espaco_de_bowman <= 3.50\n",
      "|   |   |   |   |   |   |   |--- imunodepositos <= 16.50\n",
      "|   |   |   |   |   |   |   |   |--- tipo_de_infiltrado_inflamatorio <= 0.50\n",
      "|   |   |   |   |   |   |   |   |   |--- imunodepositos <= 5.50\n",
      "|   |   |   |   |   |   |   |   |   |   |--- class: 11\n",
      "|   |   |   |   |   |   |   |   |   |--- imunodepositos >  5.50\n",
      "|   |   |   |   |   |   |   |   |   |   |--- class: 9\n",
      "|   |   |   |   |   |   |   |   |--- tipo_de_infiltrado_inflamatorio >  0.50\n",
      "|   |   |   |   |   |   |   |   |   |--- class: 8\n",
      "|   |   |   |   |   |   |   |--- imunodepositos >  16.50\n",
      "|   |   |   |   |   |   |   |   |--- tufo_glomerular <= 6.00\n",
      "|   |   |   |   |   |   |   |   |   |--- class: 11\n",
      "|   |   |   |   |   |   |   |   |--- tufo_glomerular >  6.00\n",
      "|   |   |   |   |   |   |   |   |   |--- imunodepositos <= 24.50\n",
      "|   |   |   |   |   |   |   |   |   |   |--- class: 16\n",
      "|   |   |   |   |   |   |   |   |   |--- imunodepositos >  24.50\n",
      "|   |   |   |   |   |   |   |   |   |   |--- celularidade_mesangial <= 1.00\n",
      "|   |   |   |   |   |   |   |   |   |   |   |--- class: 14\n",
      "|   |   |   |   |   |   |   |   |   |   |--- celularidade_mesangial >  1.00\n",
      "|   |   |   |   |   |   |   |   |   |   |   |--- class: 20\n",
      "|   |   |   |   |   |   |--- espaco_de_bowman >  3.50\n",
      "|   |   |   |   |   |   |   |--- membrana_basal_glomerular <= 9.00\n",
      "|   |   |   |   |   |   |   |   |--- vermelho_congo <= 1.50\n",
      "|   |   |   |   |   |   |   |   |   |--- imunodepositos <= 30.00\n",
      "|   |   |   |   |   |   |   |   |   |   |--- fribrose_intersticial <= 0.50\n",
      "|   |   |   |   |   |   |   |   |   |   |   |--- class: 28\n",
      "|   |   |   |   |   |   |   |   |   |   |--- fribrose_intersticial >  0.50\n",
      "|   |   |   |   |   |   |   |   |   |   |   |--- truncated branch of depth 3\n",
      "|   |   |   |   |   |   |   |   |   |--- imunodepositos >  30.00\n",
      "|   |   |   |   |   |   |   |   |   |   |--- calcificacao <= 0.50\n",
      "|   |   |   |   |   |   |   |   |   |   |   |--- class: 30\n",
      "|   |   |   |   |   |   |   |   |   |   |--- calcificacao >  0.50\n",
      "|   |   |   |   |   |   |   |   |   |   |   |--- class: 4\n",
      "|   |   |   |   |   |   |   |   |--- vermelho_congo >  1.50\n",
      "|   |   |   |   |   |   |   |   |   |--- class: 0\n",
      "|   |   |   |   |   |   |   |--- membrana_basal_glomerular >  9.00\n",
      "|   |   |   |   |   |   |   |   |--- class: 6\n",
      "\n",
      "Precisão do modelo: 57.58%\n",
      "Coeficiente kappa: 0.5484\n"
     ]
    },
    {
     "data": {
      "text/html": [
       "<style>#sk-container-id-9 {color: black;background-color: white;}#sk-container-id-9 pre{padding: 0;}#sk-container-id-9 div.sk-toggleable {background-color: white;}#sk-container-id-9 label.sk-toggleable__label {cursor: pointer;display: block;width: 100%;margin-bottom: 0;padding: 0.3em;box-sizing: border-box;text-align: center;}#sk-container-id-9 label.sk-toggleable__label-arrow:before {content: \"▸\";float: left;margin-right: 0.25em;color: #696969;}#sk-container-id-9 label.sk-toggleable__label-arrow:hover:before {color: black;}#sk-container-id-9 div.sk-estimator:hover label.sk-toggleable__label-arrow:before {color: black;}#sk-container-id-9 div.sk-toggleable__content {max-height: 0;max-width: 0;overflow: hidden;text-align: left;background-color: #f0f8ff;}#sk-container-id-9 div.sk-toggleable__content pre {margin: 0.2em;color: black;border-radius: 0.25em;background-color: #f0f8ff;}#sk-container-id-9 input.sk-toggleable__control:checked~div.sk-toggleable__content {max-height: 200px;max-width: 100%;overflow: auto;}#sk-container-id-9 input.sk-toggleable__control:checked~label.sk-toggleable__label-arrow:before {content: \"▾\";}#sk-container-id-9 div.sk-estimator input.sk-toggleable__control:checked~label.sk-toggleable__label {background-color: #d4ebff;}#sk-container-id-9 div.sk-label input.sk-toggleable__control:checked~label.sk-toggleable__label {background-color: #d4ebff;}#sk-container-id-9 input.sk-hidden--visually {border: 0;clip: rect(1px 1px 1px 1px);clip: rect(1px, 1px, 1px, 1px);height: 1px;margin: -1px;overflow: hidden;padding: 0;position: absolute;width: 1px;}#sk-container-id-9 div.sk-estimator {font-family: monospace;background-color: #f0f8ff;border: 1px dotted black;border-radius: 0.25em;box-sizing: border-box;margin-bottom: 0.5em;}#sk-container-id-9 div.sk-estimator:hover {background-color: #d4ebff;}#sk-container-id-9 div.sk-parallel-item::after {content: \"\";width: 100%;border-bottom: 1px solid gray;flex-grow: 1;}#sk-container-id-9 div.sk-label:hover label.sk-toggleable__label {background-color: #d4ebff;}#sk-container-id-9 div.sk-serial::before {content: \"\";position: absolute;border-left: 1px solid gray;box-sizing: border-box;top: 0;bottom: 0;left: 50%;z-index: 0;}#sk-container-id-9 div.sk-serial {display: flex;flex-direction: column;align-items: center;background-color: white;padding-right: 0.2em;padding-left: 0.2em;position: relative;}#sk-container-id-9 div.sk-item {position: relative;z-index: 1;}#sk-container-id-9 div.sk-parallel {display: flex;align-items: stretch;justify-content: center;background-color: white;position: relative;}#sk-container-id-9 div.sk-item::before, #sk-container-id-9 div.sk-parallel-item::before {content: \"\";position: absolute;border-left: 1px solid gray;box-sizing: border-box;top: 0;bottom: 0;left: 50%;z-index: -1;}#sk-container-id-9 div.sk-parallel-item {display: flex;flex-direction: column;z-index: 1;position: relative;background-color: white;}#sk-container-id-9 div.sk-parallel-item:first-child::after {align-self: flex-end;width: 50%;}#sk-container-id-9 div.sk-parallel-item:last-child::after {align-self: flex-start;width: 50%;}#sk-container-id-9 div.sk-parallel-item:only-child::after {width: 0;}#sk-container-id-9 div.sk-dashed-wrapped {border: 1px dashed gray;margin: 0 0.4em 0.5em 0.4em;box-sizing: border-box;padding-bottom: 0.4em;background-color: white;}#sk-container-id-9 div.sk-label label {font-family: monospace;font-weight: bold;display: inline-block;line-height: 1.2em;}#sk-container-id-9 div.sk-label-container {text-align: center;}#sk-container-id-9 div.sk-container {/* jupyter's `normalize.less` sets `[hidden] { display: none; }` but bootstrap.min.css set `[hidden] { display: none !important; }` so we also need the `!important` here to be able to override the default hidden behavior on the sphinx rendered scikit-learn.org. See: https://github.com/scikit-learn/scikit-learn/issues/21755 */display: inline-block !important;position: relative;}#sk-container-id-9 div.sk-text-repr-fallback {display: none;}</style><div id=\"sk-container-id-9\" class=\"sk-top-container\"><div class=\"sk-text-repr-fallback\"><pre>DecisionTreeClassifier(random_state=42)</pre><b>In a Jupyter environment, please rerun this cell to show the HTML representation or trust the notebook. <br />On GitHub, the HTML representation is unable to render, please try loading this page with nbviewer.org.</b></div><div class=\"sk-container\" hidden><div class=\"sk-item\"><div class=\"sk-estimator sk-toggleable\"><input class=\"sk-toggleable__control sk-hidden--visually\" id=\"sk-estimator-id-9\" type=\"checkbox\" checked><label for=\"sk-estimator-id-9\" class=\"sk-toggleable__label sk-toggleable__label-arrow\">DecisionTreeClassifier</label><div class=\"sk-toggleable__content\"><pre>DecisionTreeClassifier(random_state=42)</pre></div></div></div></div></div>"
      ],
      "text/plain": [
       "DecisionTreeClassifier(random_state=42)"
      ]
     },
     "execution_count": 75,
     "metadata": {},
     "output_type": "execute_result"
    }
   ],
   "source": [
    "arvore_decisao_2(X_train, y_train, X_test, y_test, 42)"
   ]
  },
  {
   "cell_type": "code",
   "execution_count": null,
   "id": "de12aa63",
   "metadata": {},
   "outputs": [],
   "source": []
  }
 ],
 "metadata": {
  "kernelspec": {
   "display_name": "pesquisa",
   "language": "python",
   "name": "pesquisa"
  },
  "language_info": {
   "codemirror_mode": {
    "name": "ipython",
    "version": 3
   },
   "file_extension": ".py",
   "mimetype": "text/x-python",
   "name": "python",
   "nbconvert_exporter": "python",
   "pygments_lexer": "ipython3",
   "version": "3.9.7"
  }
 },
 "nbformat": 4,
 "nbformat_minor": 5
}
